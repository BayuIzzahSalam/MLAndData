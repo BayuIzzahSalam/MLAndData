{
 "cells": [
  {
   "cell_type": "markdown",
   "metadata": {},
   "source": [
    "# ANALISIS DATA PADA PASIEN PENYAKIT HATI"
   ]
  },
  {
   "cell_type": "markdown",
   "metadata": {},
   "source": [
    "BAYU IZZAH SALAM"
   ]
  },
  {
   "cell_type": "markdown",
   "metadata": {},
   "source": [
    "09011281924032"
   ]
  },
  {
   "cell_type": "markdown",
   "metadata": {},
   "source": [
    "SK 3 A"
   ]
  },
  {
   "cell_type": "code",
   "execution_count": 5,
   "metadata": {},
   "outputs": [],
   "source": [
    "import pandas as pd\n",
    "import numpy as np"
   ]
  },
  {
   "cell_type": "code",
   "execution_count": 6,
   "metadata": {},
   "outputs": [
    {
     "data": {
      "text/html": [
       "<div>\n",
       "<style scoped>\n",
       "    .dataframe tbody tr th:only-of-type {\n",
       "        vertical-align: middle;\n",
       "    }\n",
       "\n",
       "    .dataframe tbody tr th {\n",
       "        vertical-align: top;\n",
       "    }\n",
       "\n",
       "    .dataframe thead th {\n",
       "        text-align: right;\n",
       "    }\n",
       "</style>\n",
       "<table border=\"1\" class=\"dataframe\">\n",
       "  <thead>\n",
       "    <tr style=\"text-align: right;\">\n",
       "      <th></th>\n",
       "      <th>age</th>\n",
       "      <th>sex</th>\n",
       "      <th>cp</th>\n",
       "      <th>trestbps</th>\n",
       "      <th>chol</th>\n",
       "      <th>fbs</th>\n",
       "      <th>restecg</th>\n",
       "      <th>thalach</th>\n",
       "      <th>exang</th>\n",
       "      <th>oldpeak</th>\n",
       "      <th>slope</th>\n",
       "      <th>ca</th>\n",
       "      <th>thal</th>\n",
       "      <th>target</th>\n",
       "    </tr>\n",
       "  </thead>\n",
       "  <tbody>\n",
       "    <tr>\n",
       "      <th>0</th>\n",
       "      <td>63</td>\n",
       "      <td>1</td>\n",
       "      <td>3</td>\n",
       "      <td>145</td>\n",
       "      <td>233</td>\n",
       "      <td>1</td>\n",
       "      <td>0</td>\n",
       "      <td>150</td>\n",
       "      <td>0</td>\n",
       "      <td>2.3</td>\n",
       "      <td>0</td>\n",
       "      <td>0</td>\n",
       "      <td>1</td>\n",
       "      <td>1</td>\n",
       "    </tr>\n",
       "    <tr>\n",
       "      <th>1</th>\n",
       "      <td>37</td>\n",
       "      <td>1</td>\n",
       "      <td>2</td>\n",
       "      <td>130</td>\n",
       "      <td>250</td>\n",
       "      <td>0</td>\n",
       "      <td>1</td>\n",
       "      <td>187</td>\n",
       "      <td>0</td>\n",
       "      <td>3.5</td>\n",
       "      <td>0</td>\n",
       "      <td>0</td>\n",
       "      <td>2</td>\n",
       "      <td>1</td>\n",
       "    </tr>\n",
       "    <tr>\n",
       "      <th>2</th>\n",
       "      <td>41</td>\n",
       "      <td>0</td>\n",
       "      <td>1</td>\n",
       "      <td>130</td>\n",
       "      <td>204</td>\n",
       "      <td>0</td>\n",
       "      <td>0</td>\n",
       "      <td>172</td>\n",
       "      <td>0</td>\n",
       "      <td>1.4</td>\n",
       "      <td>2</td>\n",
       "      <td>0</td>\n",
       "      <td>2</td>\n",
       "      <td>1</td>\n",
       "    </tr>\n",
       "    <tr>\n",
       "      <th>3</th>\n",
       "      <td>56</td>\n",
       "      <td>1</td>\n",
       "      <td>1</td>\n",
       "      <td>120</td>\n",
       "      <td>236</td>\n",
       "      <td>0</td>\n",
       "      <td>1</td>\n",
       "      <td>178</td>\n",
       "      <td>0</td>\n",
       "      <td>0.8</td>\n",
       "      <td>2</td>\n",
       "      <td>0</td>\n",
       "      <td>2</td>\n",
       "      <td>1</td>\n",
       "    </tr>\n",
       "    <tr>\n",
       "      <th>4</th>\n",
       "      <td>57</td>\n",
       "      <td>0</td>\n",
       "      <td>0</td>\n",
       "      <td>120</td>\n",
       "      <td>354</td>\n",
       "      <td>0</td>\n",
       "      <td>1</td>\n",
       "      <td>163</td>\n",
       "      <td>1</td>\n",
       "      <td>0.6</td>\n",
       "      <td>2</td>\n",
       "      <td>0</td>\n",
       "      <td>2</td>\n",
       "      <td>1</td>\n",
       "    </tr>\n",
       "  </tbody>\n",
       "</table>\n",
       "</div>"
      ],
      "text/plain": [
       "   age  sex  cp  trestbps  chol  fbs  restecg  thalach  exang  oldpeak  slope  \\\n",
       "0   63    1   3       145   233    1        0      150      0      2.3      0   \n",
       "1   37    1   2       130   250    0        1      187      0      3.5      0   \n",
       "2   41    0   1       130   204    0        0      172      0      1.4      2   \n",
       "3   56    1   1       120   236    0        1      178      0      0.8      2   \n",
       "4   57    0   0       120   354    0        1      163      1      0.6      2   \n",
       "\n",
       "   ca  thal  target  \n",
       "0   0     1       1  \n",
       "1   0     2       1  \n",
       "2   0     2       1  \n",
       "3   0     2       1  \n",
       "4   0     2       1  "
      ]
     },
     "execution_count": 6,
     "metadata": {},
     "output_type": "execute_result"
    }
   ],
   "source": [
    "df=pd.read_csv('heart.csv')\n",
    "df.head(5)"
   ]
  },
  {
   "cell_type": "code",
   "execution_count": 7,
   "metadata": {
    "scrolled": false
   },
   "outputs": [
    {
     "data": {
      "text/html": [
       "<div>\n",
       "<style scoped>\n",
       "    .dataframe tbody tr th:only-of-type {\n",
       "        vertical-align: middle;\n",
       "    }\n",
       "\n",
       "    .dataframe tbody tr th {\n",
       "        vertical-align: top;\n",
       "    }\n",
       "\n",
       "    .dataframe thead th {\n",
       "        text-align: right;\n",
       "    }\n",
       "</style>\n",
       "<table border=\"1\" class=\"dataframe\">\n",
       "  <thead>\n",
       "    <tr style=\"text-align: right;\">\n",
       "      <th></th>\n",
       "      <th>age</th>\n",
       "      <th>sex</th>\n",
       "      <th>cp</th>\n",
       "      <th>trestbps</th>\n",
       "      <th>chol</th>\n",
       "      <th>fbs</th>\n",
       "      <th>restecg</th>\n",
       "      <th>thalach</th>\n",
       "      <th>exang</th>\n",
       "      <th>oldpeak</th>\n",
       "      <th>slope</th>\n",
       "      <th>ca</th>\n",
       "      <th>thal</th>\n",
       "      <th>target</th>\n",
       "    </tr>\n",
       "  </thead>\n",
       "  <tbody>\n",
       "    <tr>\n",
       "      <th>298</th>\n",
       "      <td>57</td>\n",
       "      <td>0</td>\n",
       "      <td>0</td>\n",
       "      <td>140</td>\n",
       "      <td>241</td>\n",
       "      <td>0</td>\n",
       "      <td>1</td>\n",
       "      <td>123</td>\n",
       "      <td>1</td>\n",
       "      <td>0.2</td>\n",
       "      <td>1</td>\n",
       "      <td>0</td>\n",
       "      <td>3</td>\n",
       "      <td>0</td>\n",
       "    </tr>\n",
       "    <tr>\n",
       "      <th>299</th>\n",
       "      <td>45</td>\n",
       "      <td>1</td>\n",
       "      <td>3</td>\n",
       "      <td>110</td>\n",
       "      <td>264</td>\n",
       "      <td>0</td>\n",
       "      <td>1</td>\n",
       "      <td>132</td>\n",
       "      <td>0</td>\n",
       "      <td>1.2</td>\n",
       "      <td>1</td>\n",
       "      <td>0</td>\n",
       "      <td>3</td>\n",
       "      <td>0</td>\n",
       "    </tr>\n",
       "    <tr>\n",
       "      <th>300</th>\n",
       "      <td>68</td>\n",
       "      <td>1</td>\n",
       "      <td>0</td>\n",
       "      <td>144</td>\n",
       "      <td>193</td>\n",
       "      <td>1</td>\n",
       "      <td>1</td>\n",
       "      <td>141</td>\n",
       "      <td>0</td>\n",
       "      <td>3.4</td>\n",
       "      <td>1</td>\n",
       "      <td>2</td>\n",
       "      <td>3</td>\n",
       "      <td>0</td>\n",
       "    </tr>\n",
       "    <tr>\n",
       "      <th>301</th>\n",
       "      <td>57</td>\n",
       "      <td>1</td>\n",
       "      <td>0</td>\n",
       "      <td>130</td>\n",
       "      <td>131</td>\n",
       "      <td>0</td>\n",
       "      <td>1</td>\n",
       "      <td>115</td>\n",
       "      <td>1</td>\n",
       "      <td>1.2</td>\n",
       "      <td>1</td>\n",
       "      <td>1</td>\n",
       "      <td>3</td>\n",
       "      <td>0</td>\n",
       "    </tr>\n",
       "    <tr>\n",
       "      <th>302</th>\n",
       "      <td>57</td>\n",
       "      <td>0</td>\n",
       "      <td>1</td>\n",
       "      <td>130</td>\n",
       "      <td>236</td>\n",
       "      <td>0</td>\n",
       "      <td>0</td>\n",
       "      <td>174</td>\n",
       "      <td>0</td>\n",
       "      <td>0.0</td>\n",
       "      <td>1</td>\n",
       "      <td>1</td>\n",
       "      <td>2</td>\n",
       "      <td>0</td>\n",
       "    </tr>\n",
       "  </tbody>\n",
       "</table>\n",
       "</div>"
      ],
      "text/plain": [
       "     age  sex  cp  trestbps  chol  fbs  restecg  thalach  exang  oldpeak  \\\n",
       "298   57    0   0       140   241    0        1      123      1      0.2   \n",
       "299   45    1   3       110   264    0        1      132      0      1.2   \n",
       "300   68    1   0       144   193    1        1      141      0      3.4   \n",
       "301   57    1   0       130   131    0        1      115      1      1.2   \n",
       "302   57    0   1       130   236    0        0      174      0      0.0   \n",
       "\n",
       "     slope  ca  thal  target  \n",
       "298      1   0     3       0  \n",
       "299      1   0     3       0  \n",
       "300      1   2     3       0  \n",
       "301      1   1     3       0  \n",
       "302      1   1     2       0  "
      ]
     },
     "execution_count": 7,
     "metadata": {},
     "output_type": "execute_result"
    }
   ],
   "source": [
    "df.tail(5)"
   ]
  },
  {
   "cell_type": "markdown",
   "metadata": {},
   "source": [
    "### 1.1 DATA"
   ]
  },
  {
   "cell_type": "markdown",
   "metadata": {},
   "source": [
    "a) give examples of case in data set?  jawab : contoh kasus yang saya gunakan penyakit hati pada pasien"
   ]
  },
  {
   "cell_type": "markdown",
   "metadata": {},
   "source": [
    "b) identify variables in data set   jawab :pada data ini ada 14 variabel yaitu age,sex,cp,trestbps,chol,fbs,restecg,thalach,exang,oldpeak,slope,ca,thal,dan target"
   ]
  },
  {
   "cell_type": "markdown",
   "metadata": {},
   "source": [
    "c) demonstrate how a label can be used as a variable in data set  jawab : sebuah label dapat digunakan menjadi variabel apabila di dalam variabel terdapat banyak atau nilai yang dapat digunakan menjadi suatu data untuk variabel tertentu, biasanya lebih dari satu label agar dapat digunakan kedalam variabel"
   ]
  },
  {
   "cell_type": "markdown",
   "metadata": {},
   "source": [
    "d) identify the value of variable   jawab: pada variabel age itu adalah nilai yang bersi umur dari pasien, pada variabel sex itu nilainya adalah 0 dan 1 yang mewakili perempuan dan laki laki atau jenis kelamin pasien, variabel cp isinya adalah hasil pemeriksaan cerebral palsy, pada variabel trestbps nilainya adalah hasil tekanan darah pasien, variabel chol yang isinya adalah hasil pemeriksaan kolestrol pada pasien,variabel fbs nilainya adalah hasil pemeriksaan dari fancony bickel syndrome pada pasien, variabel thalach nilai didalamnya adalah hasil pemeriksaan talasemia pada pasien."
   ]
  },
  {
   "cell_type": "markdown",
   "metadata": {},
   "source": [
    "e) classify variables as categorical or quantitative   jawab : kuantitatif = age, cp, trestbps, chol, fbs, restecg, thalach, exang, oldpeak, slope, ca, thal, target dan kategorikal = sex"
   ]
  },
  {
   "cell_type": "markdown",
   "metadata": {},
   "source": [
    "f) describe the caracteristic of data set   jawab : karakteristik dari data set ini yaitu pada data set ini kita melihat apakah pasien menderita penyakit hati atau tidak dari berbagai faktor contohnya tekanan darah, talasemia, kolestrol dsb yang tidak hanya merujuk pada satu kondisi saja melainkan banyak faktor yang mempengaruhinya."
   ]
  },
  {
   "cell_type": "markdown",
   "metadata": {},
   "source": [
    "g) explain how a rate is the result of adjusting one variable to create another   jawab : hasil dari pemeriksaan dari data yang mengandung 14 variabel dapat ditentukan apabila masing masing variabel menunjukan gejala terhadap penyakit hati, maka hasil akhirnya pasien akan dinyatakan mengidap penyakit hati setelah melihat hasil dari variabel sebelumnya. "
   ]
  },
  {
   "cell_type": "markdown",
   "metadata": {},
   "source": [
    "### 1.2 DISPLAYING DISTRIBUTION WITH GRAPH"
   ]
  },
  {
   "cell_type": "code",
   "execution_count": 8,
   "metadata": {},
   "outputs": [],
   "source": [
    "import matplotlib.pyplot as plt\n",
    "%matplotlib inline\n",
    "import seaborn as sns"
   ]
  },
  {
   "cell_type": "markdown",
   "metadata": {},
   "source": [
    "a) analyze the distribution of a categorical variable using a bar graph"
   ]
  },
  {
   "cell_type": "code",
   "execution_count": 9,
   "metadata": {},
   "outputs": [
    {
     "data": {
      "text/plain": [
       "<matplotlib.axes._subplots.AxesSubplot at 0x1f424bd22e0>"
      ]
     },
     "execution_count": 9,
     "metadata": {},
     "output_type": "execute_result"
    },
    {
     "data": {
      "image/png": "[encoded data removed]",
      "text/plain": [
       "<Figure size 432x288 with 1 Axes>"
      ]
     },
     "metadata": {
      "needs_background": "light"
     },
     "output_type": "display_data"
    }
   ],
   "source": [
    "df['sex'].value_counts().plot.bar()"
   ]
  },
  {
   "cell_type": "markdown",
   "metadata": {},
   "source": [
    "analisa : pada grapik bar diatas yang memuat dua variabel kategorikal yaitu variabel sex dapat kita lihat yang berjenis kelamin laki-laki (1) itu ada sekitar 200an orang dan yang berjeis kelamin perempuan (0) itu ada sekitar 80an orang lebih"
   ]
  },
  {
   "cell_type": "markdown",
   "metadata": {},
   "source": [
    "b) analyze the distribution of categorival variable using pie chart"
   ]
  },
  {
   "cell_type": "code",
   "execution_count": 37,
   "metadata": {},
   "outputs": [
    {
     "data": {
      "text/plain": [
       "([<matplotlib.patches.Wedge at 0x1f425e4bee0>,\n",
       "  <matplotlib.patches.Wedge at 0x1f425e58610>],\n",
       " [Text(-0.5986245291714798, 0.9228481310997082, '0'),\n",
       "  Text(0.5986244427681994, -0.9228481871469777, '1')])"
      ]
     },
     "execution_count": 37,
     "metadata": {},
     "output_type": "execute_result"
    },
    {
     "data": {
      "image/png": "[encoded data removed]",
      "text/plain": [
       "<Figure size 360x360 with 1 Axes>"
      ]
     },
     "metadata": {},
     "output_type": "display_data"
    }
   ],
   "source": [
    "plt.pie(df['sex'].value_counts(), labels={'0','1'}, shadow=True)"
   ]
  },
  {
   "cell_type": "markdown",
   "metadata": {},
   "source": [
    "analisa : pada diagram lingkaran diatas dapat kita lihat atau amati bahwa yang berjenis kelamin laki-laki (1) memang lebih domian atau lebih banyak dari yang berjenis kelamin perempuan (0), hal itu dapat disebabkan mungkin karena sample yang di pakai itu lebih banyak yang laki-laki."
   ]
  },
  {
   "cell_type": "markdown",
   "metadata": {},
   "source": [
    "c) analyze the distribution of quantitative variable using stemplot"
   ]
  },
  {
   "cell_type": "code",
   "execution_count": 11,
   "metadata": {},
   "outputs": [
    {
     "name": "stdout",
     "output_type": "stream",
     "text": [
      "Requirement already satisfied: stemgraphic in c:\\users\\bayui\\anaconda3\\lib\\site-packages (0.9.0)\n",
      "Requirement already satisfied: docopt in c:\\users\\bayui\\anaconda3\\lib\\site-packages (from stemgraphic) (0.6.2)\n",
      "Requirement already satisfied: matplotlib in c:\\users\\bayui\\anaconda3\\lib\\site-packages (from stemgraphic) (3.2.2)\n",
      "Requirement already satisfied: pandas in c:\\users\\bayui\\anaconda3\\lib\\site-packages (from stemgraphic) (1.0.5)\n",
      "Requirement already satisfied: seaborn in c:\\users\\bayui\\anaconda3\\lib\\site-packages (from stemgraphic) (0.10.1)\n",
      "Requirement already satisfied: python-dateutil>=2.1 in c:\\users\\bayui\\anaconda3\\lib\\site-packages (from matplotlib->stemgraphic) (2.8.1)\n",
      "Requirement already satisfied: numpy>=1.11 in c:\\users\\bayui\\anaconda3\\lib\\site-packages (from matplotlib->stemgraphic) (1.18.5)\n",
      "Requirement already satisfied: pyparsing!=2.0.4,!=2.1.2,!=2.1.6,>=2.0.1 in c:\\users\\bayui\\anaconda3\\lib\\site-packages (from matplotlib->stemgraphic) (2.4.7)\n",
      "Requirement already satisfied: kiwisolver>=1.0.1 in c:\\users\\bayui\\anaconda3\\lib\\site-packages (from matplotlib->stemgraphic) (1.2.0)\n",
      "Requirement already satisfied: cycler>=0.10 in c:\\users\\bayui\\anaconda3\\lib\\site-packages (from matplotlib->stemgraphic) (0.10.0)\n",
      "Requirement already satisfied: pytz>=2017.2 in c:\\users\\bayui\\anaconda3\\lib\\site-packages (from pandas->stemgraphic) (2020.1)\n",
      "Requirement already satisfied: scipy>=1.0.1 in c:\\users\\bayui\\anaconda3\\lib\\site-packages (from seaborn->stemgraphic) (1.5.0)\n",
      "Requirement already satisfied: six>=1.5 in c:\\users\\bayui\\anaconda3\\lib\\site-packages (from python-dateutil>=2.1->matplotlib->stemgraphic) (1.15.0)\n"
     ]
    }
   ],
   "source": [
    "import sys\n",
    "!{sys.executable} -m pip install stemgraphic\n",
    "import stemgraphic"
   ]
  },
  {
   "cell_type": "code",
   "execution_count": 12,
   "metadata": {},
   "outputs": [
    {
     "data": {
      "text/plain": [
       "(<Figure size 540x270 with 1 Axes>,\n",
       " <matplotlib.axes._axes.Axes at 0x1f4253840d0>)"
      ]
     },
     "execution_count": 12,
     "metadata": {},
     "output_type": "execute_result"
    },
    {
     "data": {
      "image/png": "[encoded data removed]",
      "text/plain": [
       "<Figure size 540x270 with 1 Axes>"
      ]
     },
     "metadata": {
      "needs_background": "light"
     },
     "output_type": "display_data"
    }
   ],
   "source": [
    "stemgraphic.stem_graphic(df['trestbps'], scale = 10)"
   ]
  },
  {
   "cell_type": "markdown",
   "metadata": {},
   "source": [
    "analisa : pada stemplot untuk variabel trestbps atau tekanan darah kita dapat menganalisis bahwa tekanan darah yang paling dominan atau paling banyak pada pasien adalah tekanan darah dengan nilai 120an sedangkan yang paling sedikit apabila kita melihat pada stemplot yaitu tekanan darah dengan nilai 200 dan 192 yang mana masing-masing tekanan darah hanya satu orang saja. pada stemplot ini dibagi dengan rentang skala yaitu 10 dimana angka 9,10,11,12,13 dst kita kalikan 10 lalu jumlahkan dengan angka yang ada di paling kanan, kita menjumlahkannya persatu angka untuk satu data, sedangkan angka yang paling kiri adalah kumulatif jumlah data yang dihitung dari bawah "
   ]
  },
  {
   "cell_type": "markdown",
   "metadata": {},
   "source": [
    "d) analyze the distribution of quantitative variable using histogram"
   ]
  },
  {
   "cell_type": "code",
   "execution_count": 13,
   "metadata": {},
   "outputs": [
    {
     "data": {
      "text/plain": [
       "(array([10., 42., 67., 74., 57., 27., 13.,  8.,  3.,  2.]),\n",
       " array([ 94. , 104.6, 115.2, 125.8, 136.4, 147. , 157.6, 168.2, 178.8,\n",
       "        189.4, 200. ]),\n",
       " <a list of 10 Patch objects>)"
      ]
     },
     "execution_count": 13,
     "metadata": {},
     "output_type": "execute_result"
    },
    {
     "data": {
      "image/png": "[encoded data removed]",
      "text/plain": [
       "<Figure size 432x288 with 1 Axes>"
      ]
     },
     "metadata": {
      "needs_background": "light"
     },
     "output_type": "display_data"
    }
   ],
   "source": [
    "plt.hist(df['trestbps'])"
   ]
  },
  {
   "cell_type": "markdown",
   "metadata": {},
   "source": [
    "analisa : pada histogram untuk variabel trestbps didapatkan atau dapat kita analisis yaitu terdapat nilai atau data paling banyak yaitu di kisaran 130an dan data yang paling sedikit ada di kisaran 190 sampai 200 jenis histogram ini adalah left skewed atau condong ke kiri karena data kebanyakan berada di sisi kiri dan apabila kita lihat nilai terbanyak pun berada pada sisi kiri sari histogram ini maka dari itu histogram ini dapat dikatakan left skewed "
   ]
  },
  {
   "cell_type": "markdown",
   "metadata": {},
   "source": [
    "e) examine the distribution of a quantitative variables with respect to the overall pattern of the data and deviation of the pattern"
   ]
  },
  {
   "cell_type": "code",
   "execution_count": 14,
   "metadata": {},
   "outputs": [
    {
     "data": {
      "image/png": "[encoded data removed]",
      "text/plain": [
       "<Figure size 432x288 with 1 Axes>"
      ]
     },
     "metadata": {
      "needs_background": "light"
     },
     "output_type": "display_data"
    }
   ],
   "source": [
    "plt.scatter(df.index,df['trestbps'])\n",
    "plt.show()"
   ]
  },
  {
   "cell_type": "markdown",
   "metadata": {},
   "source": [
    "analisa : pada variabel trestbps tidak ditemukan adanya suatu korelasi pada data karena letak titik yang berjauhan dan tidak membentuk pola \n",
    "yang jelas apakah kekanan atau kekiri. suatu data dapat dikatakan kuat apabila ada pola yang jelas dan titik saling berdekatan dan data dikatakan lemah apabila titik tidak saling berdekatan"
   ]
  },
  {
   "cell_type": "markdown",
   "metadata": {},
   "source": [
    "f) identify the shape, center, and spread of the distribution the quantitative variable  jawab : pada variabel trestbps bentuk dari data yang dapat kita lihat di histogram adalah left skewed atau condong ke kanan, pusat dari data berada pada kisaran nilai 130an dan sebaran data yang dapat kita lihat dari scatterplot yang bentuknya tidak terlihat polanya yang mengakibatkan sebaran data tidak jelas dan tidak kuat."
   ]
  },
  {
   "cell_type": "markdown",
   "metadata": {},
   "source": [
    "## 1.3 DESCRIBING DISTRIBUTION WITH NUMBERS"
   ]
  },
  {
   "cell_type": "markdown",
   "metadata": {},
   "source": [
    "a) Describe the center of a distribution by using the mean.  jawab :  pada stemplot mean yang kita dapat ada di kisaran 130an sebaran data dari dibawah 100 sampai 200an dengan distribusi yang beragam dilihat dari sebaran data terhadap mean"
   ]
  },
  {
   "cell_type": "markdown",
   "metadata": {},
   "source": [
    "b) Describe the center of a distribution by using the median   jawab : sebaran data variabel trestbps apabila kita lihat dari median yang kita amati dari histogram sebaran data lebih banyak yang nilainya dibawah median yaitu median dari variabel trestbps adalah 130an maka dari histogram sebaran data banyak lebih banyak yang nilainya bibawah median atau 130an"
   ]
  },
  {
   "cell_type": "markdown",
   "metadata": {},
   "source": [
    "c) Compare the mean and the median as measures of center for a particular set of data.   jawab : apabila kita melihat ke pusat data antara mean dan median maka median atau nilai tengah dapat dijadikan acuan untuk pusat data karena median sendiri adalah nilai tengah yang artinya suatu nilai pada data yang berada tepat ditengah data maka median lebih akurat dijadikan acuan pusat data apabila dibandingkan dengan mean atau rata rata"
   ]
  },
  {
   "cell_type": "markdown",
   "metadata": {},
   "source": [
    "d) Describe the spread of a distribution by using quartiles.   jawab : sebaran data apabila dilihat dari kuartil yaitu pada kuartil atas yang memiliki nilai 140an yang artinya Q1 dari data ada pada nilai 140an dan pada kuartil bawah nilainya 120an yang artinya Q3 dari data ada pada nilai 120an"
   ]
  },
  {
   "cell_type": "markdown",
   "metadata": {},
   "source": [
    "e) Describe a distribution by using the five-number summary.   jawab : kita ambil contoh yaitu 120,130,145,160,175 nah dari sampel 5 nilai dari data trestbps ini kita lihat sebarannya dari nilai 120 sampai 175 yang mana nilai yang ada di dalamnya beragam 5 nilai ini hanya menjadi sampel untuk menggambarkan data trestbps secara keseluruhan yang kurang lebih gambrannya tidak akan berbeda jauh atau mungkin sama"
   ]
  },
  {
   "cell_type": "markdown",
   "metadata": {},
   "source": [
    "f) Describe a distribution by using a boxplot and a modified boxplot."
   ]
  },
  {
   "cell_type": "code",
   "execution_count": 15,
   "metadata": {},
   "outputs": [
    {
     "data": {
      "text/plain": [
       "{'whiskers': [<matplotlib.lines.Line2D at 0x1f425551250>,\n",
       "  <matplotlib.lines.Line2D at 0x1f4255515b0>],\n",
       " 'caps': [<matplotlib.lines.Line2D at 0x1f425551910>,\n",
       "  <matplotlib.lines.Line2D at 0x1f425551c70>],\n",
       " 'boxes': [<matplotlib.lines.Line2D at 0x1f42553feb0>],\n",
       " 'medians': [<matplotlib.lines.Line2D at 0x1f425551fd0>],\n",
       " 'fliers': [<matplotlib.lines.Line2D at 0x1f42555d310>],\n",
       " 'means': []}"
      ]
     },
     "execution_count": 15,
     "metadata": {},
     "output_type": "execute_result"
    },
    {
     "data": {
      "image/png": "[encoded data removed]",
      "text/plain": [
       "<Figure size 432x288 with 1 Axes>"
      ]
     },
     "metadata": {
      "needs_background": "light"
     },
     "output_type": "display_data"
    }
   ],
   "source": [
    "plt.boxplot(df['trestbps'])"
   ]
  },
  {
   "cell_type": "markdown",
   "metadata": {},
   "source": [
    "analisa : sebaran data dari boxplot diatas dapat kita analisis yaitu dengan data terendah dibawah 100 dan tertinggi 200an pada data trestbps dengna melihat boxplot dapat kita lihat outlier nya yaitu nilai yang besarnya diatas 170an maka apabila nilai nya diatas 170an maka data dapat kita anggap sebagai pencilan atau outlier karan menyimpang jauh dari data lainnya sedangkan median ada pada kisaran 130an, dengan Q1 = 120 dan Q3 = 140 "
   ]
  },
  {
   "cell_type": "markdown",
   "metadata": {},
   "source": [
    "g) Compare one or more sets of data measured on the same variable by using side-by-side boxplots."
   ]
  },
  {
   "cell_type": "code",
   "execution_count": 16,
   "metadata": {},
   "outputs": [
    {
     "data": {
      "text/plain": [
       "['age',\n",
       " 'cp',\n",
       " 'trestbps',\n",
       " 'chol',\n",
       " 'fbs',\n",
       " 'restecg',\n",
       " 'thalach',\n",
       " 'exang',\n",
       " 'oldpeak',\n",
       " 'slope',\n",
       " 'ca',\n",
       " 'thal',\n",
       " 'target']"
      ]
     },
     "execution_count": 16,
     "metadata": {},
     "output_type": "execute_result"
    }
   ],
   "source": [
    "dfCatRemove=df.drop('sex',axis=1)\n",
    "list(dfCatRemove.columns.values)"
   ]
  },
  {
   "cell_type": "code",
   "execution_count": 17,
   "metadata": {},
   "outputs": [
    {
     "data": {
      "text/plain": [
       "<matplotlib.axes._subplots.AxesSubplot at 0x1f42534cee0>"
      ]
     },
     "execution_count": 17,
     "metadata": {},
     "output_type": "execute_result"
    },
    {
     "data": {
      "image/png": "[encoded data removed]",
      "text/plain": [
       "<Figure size 648x648 with 1 Axes>"
      ]
     },
     "metadata": {},
     "output_type": "display_data"
    }
   ],
   "source": [
    "sns.set(rc={'figure.figsize':(9,9)})\n",
    "sns.boxplot(x=\"variable\", y=\"value\", data=pd.melt(dfCatRemove))"
   ]
  },
  {
   "cell_type": "markdown",
   "metadata": {},
   "source": [
    "analisa : dapat kita lihat dan bandingkan dari 4 variabel yaitu age,trestbps,chol dan thalach yang memiliki pencilan yaitu variabel trestbps, chol dan thalach sedangkan tidak ada pencilan pada variabel thalach outlier ada di bawah data terendah sedangkan trestbps dan chol diatas nilai tertinggi"
   ]
  },
  {
   "cell_type": "markdown",
   "metadata": {},
   "source": [
    "h) Choose measures of center and spread for a particular set of data.   jawab : pada data set kali ini khusunya pada variabel trestbps dapat dijadikan pusat sebaran data yaitu nilai median dari data trestbps ini yaitu adalah 130 yang dapat kita tetapkan menjadi pusat dari data dan menjadi sebagai pusat sebaran data juga"
   ]
  },
  {
   "cell_type": "markdown",
   "metadata": {},
   "source": [
    "## 1.4 DENSITY CURVES AND NORMAL DISTRIBUTIONS "
   ]
  },
  {
   "cell_type": "markdown",
   "metadata": {},
   "source": [
    "a) Compare the mean and the median for symmetric and skewed distributions."
   ]
  },
  {
   "cell_type": "code",
   "execution_count": 18,
   "metadata": {},
   "outputs": [
    {
     "data": {
      "text/plain": [
       "<matplotlib.axes._subplots.AxesSubplot at 0x1f4258190d0>"
      ]
     },
     "execution_count": 18,
     "metadata": {},
     "output_type": "execute_result"
    },
    {
     "data": {
      "image/png": "[encoded data removed]",
      "text/plain": [
       "<Figure size 360x360 with 1 Axes>"
      ]
     },
     "metadata": {},
     "output_type": "display_data"
    }
   ],
   "source": [
    "sns.set(rc={'figure.figsize':(5,5)})\n",
    "sns.kdeplot(df['trestbps'],shade=True)"
   ]
  },
  {
   "cell_type": "markdown",
   "metadata": {},
   "source": [
    "analisa :  pada kasus untuk data set ini saya menggamati variabel trestbps pada density curve diatas grapik untuk variabel trestbps ini adalah left skewed dengan mean ada pada kisaran nilai 130an dan mean 128 pada data trestbps median dan mean tidak jauh berbeda, pada density curve yang bentuknya left skewed artinya median berada di sebelah kiri dari grafik dan kebanyakan nilai juga berada di bagian kiri dari grafik "
   ]
  },
  {
   "cell_type": "markdown",
   "metadata": {},
   "source": [
    "b) Sketch a Normal distribution for any given mean and standard deviation.   jawab : pada kasus atau variabel yang saya amati yaitu variabel trestbps apabila kita melihat pada grafik density curve variabel ini bukan merupakan normal distribusi karena bagian kiri dan kanan tidak sama melainkan left skewed karena lebih condong ke kiri daripada ke kanan"
   ]
  },
  {
   "cell_type": "markdown",
   "metadata": {},
   "source": [
    "c) Apply the 68–95–99.7 rule to find proportions of observations within 1, 2, and 3 standard deviations of the mean for any Normal distribution.   jawab : pada curva diatas 68% dari data ada pada rentang nilai 115 sampai 145 95% data ada pada rentang 110 sampai 180 dan 99.7% data ada pada rentang nilai 80 sampai 200"
   ]
  },
  {
   "cell_type": "markdown",
   "metadata": {},
   "source": [
    "d) Assess the extent to which the distribution of a set of data can be approximated by a Normal distribution.   jawab : distribusi sekumpulan data terkhusus untuk variabel trestbps ini adalah hampir mendekati distribusi normal atau distribusi yang sama antara bagian kiri dan bagian kanan. meski begitu distribusi pada kurva diatas belum dapat kita katakan distribusi normal karena belum seimbang antara bagian kiri dan kanan kurva, melainkan kurva ini adalah jenis left skewed atau condong ke kiri walaupun jika kita lihat secara sekilas memang hampir mendekati normal distribusi."
   ]
  },
  {
   "cell_type": "markdown",
   "metadata": {},
   "source": [
    "## 2.1 RELATIONSHIP"
   ]
  },
  {
   "cell_type": "markdown",
   "metadata": {},
   "source": [
    "a) Identify the key characteristics of a data set to be used to explore a relationship between two variables.   jawab : karakteristik dari data set yang saya gunakan adalah kita menggunakan data tekanan darah pada variabel trestbps terhadap pasien yang berjenis kelamin laki-laki dan perempuan yang memiliki tekanan darah yang berbeda antara pasien satu dengan pasien yang lainnya baik yang berjenis kelamin perempuan maupun yang berjenis kelamin laki-laki "
   ]
  },
  {
   "cell_type": "markdown",
   "metadata": {},
   "source": [
    "b) Categorize variables as response variables or explanatory variables.   jawab : pada kasus ini yang merupakan explanatory variabel adalah jenis kelamin karena jenis kelamin tidak akan berubah ubah sedangkan yang meupakan responsive variabel adalah tekanan darah atau trestbps karena tekanan darah tiap pasien pasti akan berubah ubah sesuai dengan kebiasaan hidup "
   ]
  },
  {
   "cell_type": "markdown",
   "metadata": {},
   "source": [
    "## 2.2 SCATTERPLOT "
   ]
  },
  {
   "cell_type": "markdown",
   "metadata": {},
   "source": [
    "a) Make a scatterplot to examine a relationship between two quantitative variables."
   ]
  },
  {
   "cell_type": "code",
   "execution_count": 19,
   "metadata": {},
   "outputs": [
    {
     "data": {
      "image/png": "[encoded data removed]",
      "text/plain": [
       "<Figure size 360x360 with 1 Axes>"
      ]
     },
     "metadata": {},
     "output_type": "display_data"
    }
   ],
   "source": [
    "plt.scatter(df.index,df['trestbps'])\n",
    "plt.show()"
   ]
  },
  {
   "cell_type": "markdown",
   "metadata": {},
   "source": [
    "analisa : berdasarkan scatter plot diatas dapat dikatakan hubungan kedua vriabel sangat lemah karena tidak membentuka suatu pola dan data tersebar saling berjauhan satu sama lain hal ini lah yang membuat data dapat kita katakan mempunyai hubungan yang lemah antara dua variabel yang diamati yaitu sex dan trestbps"
   ]
  },
  {
   "cell_type": "markdown",
   "metadata": {},
   "source": [
    "b) Describe the overall pattern in a scatterplot and any striking deviations from that pattern.   jawab : pola secara keseluruhan di dalam scatter plot apabila kita amati tidak membentuk suatu pola tertentu karena letak titik yang saling berjauhan yang tersebar didalam grafik "
   ]
  },
  {
   "cell_type": "markdown",
   "metadata": {},
   "source": [
    "c) Use a scatterplot to describe the form, direction, and strength of a relationship.   jawab : susunan dari scatterplot diatas tidak membentuk susunan tertentu karena tidak terlihat polanya, arah dari scatterplot juga tidak ada karena polanya juga tidak dapat ditemui atau tidak jelas maka dari itu scatter plot dan hubungan antara variabel sex dan trestbps ini dapat kita katakan lemah"
   ]
  },
  {
   "cell_type": "markdown",
   "metadata": {},
   "source": [
    "d) Use a scatterplot to identify outliers.   jawab : pada scatter plot kita dapat melihat outlier atau pencilan dari data yaitu nilai yang berada diatas 180 karena letak nilai tersebut sudah terlampau jauh dari data nilai lainnya "
   ]
  },
  {
   "cell_type": "markdown",
   "metadata": {},
   "source": [
    "e) Identify a linear pattern in a scatterplot   jawab : pola garis pada scatterplot tidak dapat ditemukan karena susunan dari titik titik yang kurang jelas dan tidak membentuk pola tertentu karena letak nya yang berjauhan sehingga pola garis untuk arah nya juga tidak dapat ditemukan"
   ]
  },
  {
   "cell_type": "markdown",
   "metadata": {},
   "source": [
    "f) Use different plotting symbols to include information about a categorical variable in a scatterplot"
   ]
  },
  {
   "cell_type": "code",
   "execution_count": 20,
   "metadata": {},
   "outputs": [
    {
     "data": {
      "image/png": "[encoded data removed]",
      "text/plain": [
       "<Figure size 360x360 with 1 Axes>"
      ]
     },
     "metadata": {},
     "output_type": "display_data"
    }
   ],
   "source": [
    "plt.scatter(df.index,df['sex'])\n",
    "plt.show()"
   ]
  },
  {
   "cell_type": "markdown",
   "metadata": {},
   "source": [
    "analisa : pada jenis kategorikal variabel tidak bisa kita amati karena data hanya terbagi menjadi dua yaitu 1 dan 0 sehingga informasi terhadap variabel tidak bisa kita dapat karena jenis variabel nya adalah kategorikal variabel bukan kuantitatif variabel yang dapat kita tampilkan dengan scatter plot ini"
   ]
  },
  {
   "cell_type": "markdown",
   "metadata": {},
   "source": [
    "## 2.3 CORRELATIONS "
   ]
  },
  {
   "cell_type": "markdown",
   "metadata": {},
   "source": [
    "a) Use a correlation to describe the direction and strength of a linear relationship between two quantitative variables.    jawab : dari data variabel trestbps atau tekanan darah dapat kita simpulkan korelasi antara sex dan tekanan darah sangat lemah karena tidak didapatkan bentuk pola yang kuat antara dua variabel"
   ]
  },
  {
   "cell_type": "markdown",
   "metadata": {},
   "source": [
    "b) Interpret the sign of a correlation.   jawab : jika kita melihat pada scatter plot tidak ada tanda yang membuktkan bahwa korelasi kedua variabel ini dapat dikatakan kuat karena kita tidak dapat melihat tanda yang ada pada scatter plot diatas "
   ]
  },
  {
   "cell_type": "markdown",
   "metadata": {},
   "source": [
    "c) Identify situations where the correlation is not a good measure of association between two quantitative variables   jawab : pada data ini korelasi tidak kita temukan antara dua variabel ini maka dari itu korelasi diantara dua variabel ini tidak bagus dan asosiasi dari data juga tidak kuat karena korelasinya tidak ada atau sangat lemah antara kedua variabel."
   ]
  },
  {
   "cell_type": "markdown",
   "metadata": {},
   "source": [
    "d) Identify a linear pattern in a scatterplot.   jawab : pola garis tidak kita temukan pada dua variabel diatas karena titik yang saling berjauhan dan tidak membentuk suatu pola tertentu yang jelas bentuknya melainkan menyebar sehingga tidak ada pola yang terbentuk"
   ]
  },
  {
   "cell_type": "markdown",
   "metadata": {},
   "source": [
    "## 2.4 LEAST-SQUARES REGRESSION  "
   ]
  },
  {
   "cell_type": "markdown",
   "metadata": {},
   "source": [
    "a) Draw a straight line on a scatterplot of a set of data, given the equation of the line."
   ]
  },
  {
   "cell_type": "code",
   "execution_count": 21,
   "metadata": {},
   "outputs": [],
   "source": [
    "from scipy import stats\n",
    "import matplotlib.pyplot as plt"
   ]
  },
  {
   "cell_type": "code",
   "execution_count": 22,
   "metadata": {},
   "outputs": [],
   "source": [
    "trestpsb = [233,250,204,236,354,192,294,263,199,168,239,275,266,211,283,219,340,226,247,239,234,233,226,243,199,302,212,175,417,197,198,177,219,273,213,177,304,232,269,360,308,245,208,264,321,325,235,257,216,234,256,302,231,141,252,201,222,260,182,303,265,309,186,203,211,183,222,234,220,209,258,227,204,261,213,250,245,221,205,240,250,308,318,298,265,564,277,197,214,248,255,207,223,288,160,226,394,233,315,246,244,254,325,126,313,211,262,215,214,193,204,243,303,271,268,267,199,210,204,277,196,269,201,271,295,235,306,269,178,208,201,263,295,303,209,223,197,245,242,240,226,180,228,149,227,278,220,197,253,192,220,221,240,324,157,175,175,286,229,284,224,206,167,230,353,225,330,243,290,253,266,233,172,305,216,188,282,185,326,231,254,267,248,197,258,188,177,229,260,219,307,249,341,263,330,254,356,407,217,282,288,239,174,281,198,288,309,243,289,246,322,299,300,293,304,282,269,249,212,274,184,274,409,246,283,254,298,247,294,299,273,309,259,200,244,231,228,230,282,269,206,212,327,149,286,283,249,234,237,234,275,212,218,261,319,166,315,204,218,223,207,311,204,232,335,205,203,318,225,212,169,187,197,176,241,264,193,131,236,232,345,356,272,282,243,287,218,260,190,216,230,243,245,365]\n",
    "sex = [1,1,0,1,0,1,0,1,1,1,1,0,1,1,0,0,0,0,1,0,1,1,1,1,1,0,0,1,0,0,0,1,1,0,1,1,1,1,0,0,0,1,1,0,0,1,1,1,1,0,0,1,1,1,1,0,1,0,1,0,1,1,1,1,0,0,1,1,1,1,1,1,0,1,0,0,1,1,0,0,1,1,1,0,0,1,0,1,1,1,1,1,0,1,1,0,1,0,0,0,0,1,0,1,1,0,1,1,0,0,0,1,0,0,0,0,1,0,0,0,0,0,1,1,0,0,0,1,1,1,0,1,0,0,0,1,0,0,1,1,1,0,1,0,0,0,1,1,1,1,1,0,1,1,1,1,1,0,1,1,1,1,1,1,1,1,1,1,1,1,1,0,0,1,1,1,1,1,1,1,0,1,1,1,1,1,1,1,1,1,1,1,1,1,0,1,1,0,1,1,1,1,1,0,1,0,0,1,1,1,0,1,1,0,1,1,1,1,1,1,1,1,1,1,1,1,1,1,1,1,1,1,0,1,1,1,1,0,1,1,1,1,1,0,1,1,1,1,1,0,1,0,1,1,0,1,1,0,1,1,1,1,1,1,1,1,1,1,1,0,1,1,1,1,1,1,1,1,1,1,0,1,1,0,1,1,1,0,1,0,1,1,1,0]"
   ]
  },
  {
   "cell_type": "code",
   "execution_count": 23,
   "metadata": {},
   "outputs": [],
   "source": [
    "slope, intercept, r, p, std_err = stats.linregress(trestpsb, sex) "
   ]
  },
  {
   "cell_type": "code",
   "execution_count": 24,
   "metadata": {},
   "outputs": [
    {
     "name": "stdout",
     "output_type": "stream",
     "text": [
      "slope=-0.0009668638383424796, intercept=0.9233537530688376, r=-0.11048979273999164, p=0.058460068042377245, std_err =0.0005089609781124309 \n"
     ]
    }
   ],
   "source": [
    "print ('slope={0}, intercept={1}, r={2}, p={3}, std_err ={4} '.format(slope, intercept, r,p,std_err))"
   ]
  },
  {
   "cell_type": "code",
   "execution_count": 25,
   "metadata": {},
   "outputs": [],
   "source": [
    "def myfunc(trestpsb):\n",
    "  return slope * trestpsb + intercept"
   ]
  },
  {
   "cell_type": "code",
   "execution_count": 26,
   "metadata": {},
   "outputs": [],
   "source": [
    "mymodel = list(map(myfunc, trestpsb)) "
   ]
  },
  {
   "cell_type": "code",
   "execution_count": 27,
   "metadata": {},
   "outputs": [
    {
     "data": {
      "text/plain": [
       "[<matplotlib.lines.Line2D at 0x1f425777700>]"
      ]
     },
     "execution_count": 27,
     "metadata": {},
     "output_type": "execute_result"
    },
    {
     "data": {
      "image/png": "[encoded data removed]",
      "text/plain": [
       "<Figure size 360x360 with 1 Axes>"
      ]
     },
     "metadata": {},
     "output_type": "display_data"
    }
   ],
   "source": [
    "plt.scatter(trestpsb, sex) \n",
    "plt.plot(trestpsb, mymodel)"
   ]
  },
  {
   "cell_type": "markdown",
   "metadata": {},
   "source": [
    "analisa : pada garis yang telah dibuat antara dua variabel yaitu sex dan trestbps maka kita dapatkan garis yang berada jauh dengan titik titik yang ada karena regressi antara dua variabel juga sangat lemah hal inilah yang menyebabkan hubugan antara kedua variabel bisa kita katakan sangat lemah bahkan tidak ada hubungan atau mungkin hal ini disebabkan karena yang satu variabel kategorikal dan yang satu lagi variabel kuantitatif"
   ]
  },
  {
   "cell_type": "markdown",
   "metadata": {},
   "source": [
    "b) Predict a value of the response variable y for a given value of the explanatory variable x using a regression equation.   jawab : kita dapat memberikan nilai prediksi dengan persamaan yang didapat adalah :  trestbps predict = 0.923-(0.0009 x sex), dengan nilai 0.923 kita dapat dari intercept dan nilai 0.0009 didapat dari slope "
   ]
  },
  {
   "cell_type": "markdown",
   "metadata": {},
   "source": [
    "c)  Explain the meaning of the term “least squares.”   jawab : least square adalah kuadrat terkecil dari persamaan regressi linear yang digunakan untuk memprediksi nilai ramalan dari nilai yang telah ada dalam data "
   ]
  },
  {
   "cell_type": "markdown",
   "metadata": {},
   "source": [
    "d)  Read the output of statistical software to find the equation of the least- squares regression line and the value of r2.   jawab : pada output regression line kita dapatkan r = -0.11 maka nilai dari r^2 dapat kita tentukan = (-0.11)^2 = 0.0121"
   ]
  },
  {
   "cell_type": "markdown",
   "metadata": {},
   "source": [
    "e) Explain the meaning of r2 in the regression setting.   jawab : r^2 adalah pengaruh yang diberikan variabel bebas atau independent variabel terhadap variabel terikat atau dependent variabel."
   ]
  },
  {
   "cell_type": "markdown",
   "metadata": {},
   "source": [
    "## 2.5 CAUTION ABOUT CORRELATIONS AND REGRESSION "
   ]
  },
  {
   "cell_type": "markdown",
   "metadata": {},
   "source": [
    "a) Calculate the residuals for a set of data using the equation of the least- squares regression line and the observed values of the explanatory variable.   jawab : nilai residual dapat kita tentukan dengan cara = trestbps observation - trestbps predict dimana nilai trestbps predict tadi adalah 0.923-(0.0009 x sex) dan trestbps observation merupakan nilai yang telah ada dalam data "
   ]
  },
  {
   "cell_type": "markdown",
   "metadata": {},
   "source": [
    "b) Identify outliers and influential observations by examining scatterplots and residual plots."
   ]
  },
  {
   "cell_type": "code",
   "execution_count": 28,
   "metadata": {},
   "outputs": [],
   "source": [
    "from scipy import stats\n",
    "import matplotlib.pyplot as plt"
   ]
  },
  {
   "cell_type": "code",
   "execution_count": 29,
   "metadata": {},
   "outputs": [],
   "source": [
    "trestpsb = [0.9221,0.09221,0.09221,0.09221,0.09221,0.923,0.09221,0.923,0.923,0.923,0.09221,0.923,0.09221,0.923,0.923]\n",
    "sex = [1,1,1,1,1,0,1,0,0,0,1,0,1,0,0]"
   ]
  },
  {
   "cell_type": "code",
   "execution_count": 30,
   "metadata": {},
   "outputs": [],
   "source": [
    "slope, intercept, r, p, std_err = stats.linregress(trestpsb, sex) "
   ]
  },
  {
   "cell_type": "code",
   "execution_count": 31,
   "metadata": {},
   "outputs": [
    {
     "name": "stdout",
     "output_type": "stream",
     "text": [
      "slope=-1.05366245442263, intercept=1.097293518113593, r=-0.8752538138861077, p=1.9278646034194904e-05, std_err =0.16148771297055425 \n"
     ]
    }
   ],
   "source": [
    "print ('slope={0}, intercept={1}, r={2}, p={3}, std_err ={4} '.format(slope, intercept, r,p,std_err))"
   ]
  },
  {
   "cell_type": "code",
   "execution_count": 32,
   "metadata": {},
   "outputs": [],
   "source": [
    "def myfunc(trestpsb):\n",
    "  return slope * trestpsb + intercept"
   ]
  },
  {
   "cell_type": "code",
   "execution_count": 33,
   "metadata": {},
   "outputs": [],
   "source": [
    "mymodel = list(map(myfunc, trestpsb)) "
   ]
  },
  {
   "cell_type": "code",
   "execution_count": 34,
   "metadata": {},
   "outputs": [
    {
     "data": {
      "text/plain": [
       "[<matplotlib.lines.Line2D at 0x1f425793520>]"
      ]
     },
     "execution_count": 34,
     "metadata": {},
     "output_type": "execute_result"
    },
    {
     "data": {
      "image/png": "[encoded data removed]",
      "text/plain": [
       "<Figure size 360x360 with 1 Axes>"
      ]
     },
     "metadata": {},
     "output_type": "display_data"
    }
   ],
   "source": [
    "plt.scatter(trestpsb, sex) \n",
    "plt.plot(trestpsb, mymodel)"
   ]
  },
  {
   "cell_type": "markdown",
   "metadata": {},
   "source": [
    "analisa : outlier atau pencilan yang ada dari data sampel prediksi ini adalah yang bernilai diatas 0.8 dengan sex = 1 data ini adalah data sampel residual dari trestbps dengan sampel sebanyak 15 pasien maka didapatlah pencilan yaitu nilai yang diatas 0.8 dan sex = 1 dengan regessi yaitu -0.875 yang apabila kita lihat maka regressi bisa digolongkan sebagai kategori kuat dan korelasi serta hubungan antara dua variabel hasil residu juga bisa kita katakan kuat hubungannya"
   ]
  },
  {
   "cell_type": "markdown",
   "metadata": {},
   "source": [
    "c) Identify lurking variables that can influence the interpretation of relationships between two variables.   jawab : pada data diatas variabel pengintai yang dapat mempengaruhi hubungan kedua variabel mungkin adalah variabel yang bersifat kuantitatif karena pada variabel sex merupakan variabel kategorikal, apabila diganti variabel kuantitatif mungkin akan sangat mempengaruhi hubungan dan korelasi dua variabel"
   ]
  },
  {
   "cell_type": "markdown",
   "metadata": {},
   "source": [
    "d) Explain the difference between association and causality when interpreting the relationship between two variables.   jawab : pada kasus ini  perbedaan antara asosiasi dan sebab akibat adalah pada asosiasi dua variabel memiliki keterikatan tetapi bisa juga untuk tidak saling mempengaruhi antara kedua variabel, sedangkan pada sebab akibat jelas sangat besar pengaruhnya terhadap hubungan antara kedua variabel."
   ]
  },
  {
   "cell_type": "markdown",
   "metadata": {},
   "source": [
    "## 2.6 DATA ANALYS FOR TWO WAY TABLE "
   ]
  },
  {
   "cell_type": "markdown",
   "metadata": {},
   "source": [
    "a) Identify the row variable, the column variable, and the cells in a two-way table."
   ]
  },
  {
   "cell_type": "code",
   "execution_count": 35,
   "metadata": {},
   "outputs": [],
   "source": [
    "import pandas as pd"
   ]
  },
  {
   "cell_type": "code",
   "execution_count": 36,
   "metadata": {},
   "outputs": [
    {
     "data": {
      "text/html": [
       "<div>\n",
       "<style scoped>\n",
       "    .dataframe tbody tr th:only-of-type {\n",
       "        vertical-align: middle;\n",
       "    }\n",
       "\n",
       "    .dataframe tbody tr th {\n",
       "        vertical-align: top;\n",
       "    }\n",
       "\n",
       "    .dataframe thead th {\n",
       "        text-align: right;\n",
       "    }\n",
       "</style>\n",
       "<table border=\"1\" class=\"dataframe\">\n",
       "  <thead>\n",
       "    <tr style=\"text-align: right;\">\n",
       "      <th>sex</th>\n",
       "      <th>0</th>\n",
       "      <th>1</th>\n",
       "      <th>Total</th>\n",
       "    </tr>\n",
       "    <tr>\n",
       "      <th>trestbps</th>\n",
       "      <th></th>\n",
       "      <th></th>\n",
       "      <th></th>\n",
       "    </tr>\n",
       "  </thead>\n",
       "  <tbody>\n",
       "    <tr>\n",
       "      <th>100</th>\n",
       "      <td>1</td>\n",
       "      <td>3</td>\n",
       "      <td>4</td>\n",
       "    </tr>\n",
       "    <tr>\n",
       "      <th>101</th>\n",
       "      <td>0</td>\n",
       "      <td>1</td>\n",
       "      <td>1</td>\n",
       "    </tr>\n",
       "    <tr>\n",
       "      <th>102</th>\n",
       "      <td>2</td>\n",
       "      <td>0</td>\n",
       "      <td>2</td>\n",
       "    </tr>\n",
       "    <tr>\n",
       "      <th>104</th>\n",
       "      <td>0</td>\n",
       "      <td>1</td>\n",
       "      <td>1</td>\n",
       "    </tr>\n",
       "    <tr>\n",
       "      <th>105</th>\n",
       "      <td>2</td>\n",
       "      <td>1</td>\n",
       "      <td>3</td>\n",
       "    </tr>\n",
       "    <tr>\n",
       "      <th>106</th>\n",
       "      <td>1</td>\n",
       "      <td>0</td>\n",
       "      <td>1</td>\n",
       "    </tr>\n",
       "    <tr>\n",
       "      <th>108</th>\n",
       "      <td>3</td>\n",
       "      <td>3</td>\n",
       "      <td>6</td>\n",
       "    </tr>\n",
       "    <tr>\n",
       "      <th>110</th>\n",
       "      <td>3</td>\n",
       "      <td>16</td>\n",
       "      <td>19</td>\n",
       "    </tr>\n",
       "    <tr>\n",
       "      <th>112</th>\n",
       "      <td>3</td>\n",
       "      <td>6</td>\n",
       "      <td>9</td>\n",
       "    </tr>\n",
       "    <tr>\n",
       "      <th>114</th>\n",
       "      <td>0</td>\n",
       "      <td>1</td>\n",
       "      <td>1</td>\n",
       "    </tr>\n",
       "    <tr>\n",
       "      <th>115</th>\n",
       "      <td>1</td>\n",
       "      <td>2</td>\n",
       "      <td>3</td>\n",
       "    </tr>\n",
       "    <tr>\n",
       "      <th>117</th>\n",
       "      <td>0</td>\n",
       "      <td>1</td>\n",
       "      <td>1</td>\n",
       "    </tr>\n",
       "    <tr>\n",
       "      <th>118</th>\n",
       "      <td>2</td>\n",
       "      <td>5</td>\n",
       "      <td>7</td>\n",
       "    </tr>\n",
       "    <tr>\n",
       "      <th>120</th>\n",
       "      <td>10</td>\n",
       "      <td>27</td>\n",
       "      <td>37</td>\n",
       "    </tr>\n",
       "    <tr>\n",
       "      <th>122</th>\n",
       "      <td>1</td>\n",
       "      <td>3</td>\n",
       "      <td>4</td>\n",
       "    </tr>\n",
       "    <tr>\n",
       "      <th>123</th>\n",
       "      <td>0</td>\n",
       "      <td>1</td>\n",
       "      <td>1</td>\n",
       "    </tr>\n",
       "    <tr>\n",
       "      <th>124</th>\n",
       "      <td>2</td>\n",
       "      <td>4</td>\n",
       "      <td>6</td>\n",
       "    </tr>\n",
       "    <tr>\n",
       "      <th>125</th>\n",
       "      <td>0</td>\n",
       "      <td>11</td>\n",
       "      <td>11</td>\n",
       "    </tr>\n",
       "    <tr>\n",
       "      <th>126</th>\n",
       "      <td>1</td>\n",
       "      <td>2</td>\n",
       "      <td>3</td>\n",
       "    </tr>\n",
       "    <tr>\n",
       "      <th>128</th>\n",
       "      <td>3</td>\n",
       "      <td>9</td>\n",
       "      <td>12</td>\n",
       "    </tr>\n",
       "    <tr>\n",
       "      <th>129</th>\n",
       "      <td>0</td>\n",
       "      <td>1</td>\n",
       "      <td>1</td>\n",
       "    </tr>\n",
       "    <tr>\n",
       "      <th>130</th>\n",
       "      <td>12</td>\n",
       "      <td>24</td>\n",
       "      <td>36</td>\n",
       "    </tr>\n",
       "    <tr>\n",
       "      <th>132</th>\n",
       "      <td>3</td>\n",
       "      <td>5</td>\n",
       "      <td>8</td>\n",
       "    </tr>\n",
       "    <tr>\n",
       "      <th>134</th>\n",
       "      <td>2</td>\n",
       "      <td>3</td>\n",
       "      <td>5</td>\n",
       "    </tr>\n",
       "    <tr>\n",
       "      <th>135</th>\n",
       "      <td>3</td>\n",
       "      <td>3</td>\n",
       "      <td>6</td>\n",
       "    </tr>\n",
       "    <tr>\n",
       "      <th>136</th>\n",
       "      <td>2</td>\n",
       "      <td>1</td>\n",
       "      <td>3</td>\n",
       "    </tr>\n",
       "    <tr>\n",
       "      <th>138</th>\n",
       "      <td>6</td>\n",
       "      <td>7</td>\n",
       "      <td>13</td>\n",
       "    </tr>\n",
       "    <tr>\n",
       "      <th>140</th>\n",
       "      <td>10</td>\n",
       "      <td>22</td>\n",
       "      <td>32</td>\n",
       "    </tr>\n",
       "    <tr>\n",
       "      <th>142</th>\n",
       "      <td>1</td>\n",
       "      <td>2</td>\n",
       "      <td>3</td>\n",
       "    </tr>\n",
       "    <tr>\n",
       "      <th>144</th>\n",
       "      <td>0</td>\n",
       "      <td>2</td>\n",
       "      <td>2</td>\n",
       "    </tr>\n",
       "    <tr>\n",
       "      <th>145</th>\n",
       "      <td>1</td>\n",
       "      <td>4</td>\n",
       "      <td>5</td>\n",
       "    </tr>\n",
       "    <tr>\n",
       "      <th>146</th>\n",
       "      <td>1</td>\n",
       "      <td>1</td>\n",
       "      <td>2</td>\n",
       "    </tr>\n",
       "    <tr>\n",
       "      <th>148</th>\n",
       "      <td>0</td>\n",
       "      <td>2</td>\n",
       "      <td>2</td>\n",
       "    </tr>\n",
       "    <tr>\n",
       "      <th>150</th>\n",
       "      <td>7</td>\n",
       "      <td>10</td>\n",
       "      <td>17</td>\n",
       "    </tr>\n",
       "    <tr>\n",
       "      <th>152</th>\n",
       "      <td>1</td>\n",
       "      <td>4</td>\n",
       "      <td>5</td>\n",
       "    </tr>\n",
       "    <tr>\n",
       "      <th>154</th>\n",
       "      <td>0</td>\n",
       "      <td>1</td>\n",
       "      <td>1</td>\n",
       "    </tr>\n",
       "    <tr>\n",
       "      <th>155</th>\n",
       "      <td>1</td>\n",
       "      <td>0</td>\n",
       "      <td>1</td>\n",
       "    </tr>\n",
       "    <tr>\n",
       "      <th>156</th>\n",
       "      <td>0</td>\n",
       "      <td>1</td>\n",
       "      <td>1</td>\n",
       "    </tr>\n",
       "    <tr>\n",
       "      <th>160</th>\n",
       "      <td>4</td>\n",
       "      <td>7</td>\n",
       "      <td>11</td>\n",
       "    </tr>\n",
       "    <tr>\n",
       "      <th>164</th>\n",
       "      <td>0</td>\n",
       "      <td>1</td>\n",
       "      <td>1</td>\n",
       "    </tr>\n",
       "    <tr>\n",
       "      <th>165</th>\n",
       "      <td>0</td>\n",
       "      <td>1</td>\n",
       "      <td>1</td>\n",
       "    </tr>\n",
       "    <tr>\n",
       "      <th>170</th>\n",
       "      <td>1</td>\n",
       "      <td>3</td>\n",
       "      <td>4</td>\n",
       "    </tr>\n",
       "    <tr>\n",
       "      <th>172</th>\n",
       "      <td>0</td>\n",
       "      <td>1</td>\n",
       "      <td>1</td>\n",
       "    </tr>\n",
       "    <tr>\n",
       "      <th>174</th>\n",
       "      <td>1</td>\n",
       "      <td>0</td>\n",
       "      <td>1</td>\n",
       "    </tr>\n",
       "    <tr>\n",
       "      <th>178</th>\n",
       "      <td>1</td>\n",
       "      <td>1</td>\n",
       "      <td>2</td>\n",
       "    </tr>\n",
       "    <tr>\n",
       "      <th>180</th>\n",
       "      <td>2</td>\n",
       "      <td>1</td>\n",
       "      <td>3</td>\n",
       "    </tr>\n",
       "    <tr>\n",
       "      <th>192</th>\n",
       "      <td>0</td>\n",
       "      <td>1</td>\n",
       "      <td>1</td>\n",
       "    </tr>\n",
       "    <tr>\n",
       "      <th>200</th>\n",
       "      <td>1</td>\n",
       "      <td>0</td>\n",
       "      <td>1</td>\n",
       "    </tr>\n",
       "    <tr>\n",
       "      <th>94</th>\n",
       "      <td>1</td>\n",
       "      <td>1</td>\n",
       "      <td>2</td>\n",
       "    </tr>\n",
       "    <tr>\n",
       "      <th>Total</th>\n",
       "      <td>96</td>\n",
       "      <td>207</td>\n",
       "      <td>303</td>\n",
       "    </tr>\n",
       "  </tbody>\n",
       "</table>\n",
       "</div>"
      ],
      "text/plain": [
       "sex        0    1  Total\n",
       "trestbps                \n",
       "100        1    3      4\n",
       "101        0    1      1\n",
       "102        2    0      2\n",
       "104        0    1      1\n",
       "105        2    1      3\n",
       "106        1    0      1\n",
       "108        3    3      6\n",
       "110        3   16     19\n",
       "112        3    6      9\n",
       "114        0    1      1\n",
       "115        1    2      3\n",
       "117        0    1      1\n",
       "118        2    5      7\n",
       "120       10   27     37\n",
       "122        1    3      4\n",
       "123        0    1      1\n",
       "124        2    4      6\n",
       "125        0   11     11\n",
       "126        1    2      3\n",
       "128        3    9     12\n",
       "129        0    1      1\n",
       "130       12   24     36\n",
       "132        3    5      8\n",
       "134        2    3      5\n",
       "135        3    3      6\n",
       "136        2    1      3\n",
       "138        6    7     13\n",
       "140       10   22     32\n",
       "142        1    2      3\n",
       "144        0    2      2\n",
       "145        1    4      5\n",
       "146        1    1      2\n",
       "148        0    2      2\n",
       "150        7   10     17\n",
       "152        1    4      5\n",
       "154        0    1      1\n",
       "155        1    0      1\n",
       "156        0    1      1\n",
       "160        4    7     11\n",
       "164        0    1      1\n",
       "165        0    1      1\n",
       "170        1    3      4\n",
       "172        0    1      1\n",
       "174        1    0      1\n",
       "178        1    1      2\n",
       "180        2    1      3\n",
       "192        0    1      1\n",
       "200        1    0      1\n",
       "94         1    1      2\n",
       "Total     96  207    303"
      ]
     },
     "execution_count": 36,
     "metadata": {},
     "output_type": "execute_result"
    }
   ],
   "source": [
    "headers = [\"age\",\"sex\",\"cp\",\"trestbps\",\"chol\",\"fbs\",\"restecg\",\"thalach\",\"exang\",\"oldpeak\",\"slop\",\"ca\",\"thal\",\"target\"]\n",
    "df_raw = pd.read_csv(\"heart.csv\", header=None, names=headers, na_values=\"?\" )\n",
    "x = [\"0\",\"1\"]\n",
    "df = df_raw[df_raw.sex.isin(x)].copy()\n",
    "pd.crosstab(df.trestbps, df.sex, margins=True, margins_name=\"Total\")"
   ]
  },
  {
   "cell_type": "markdown",
   "metadata": {},
   "source": [
    "analisa : pada two way table di atas yang menjadi row adalah sex dan yang menjadi kolom adalah trestbps jumlah sel dengan total pasien paling banyak adala 120 dengan 37 pasien, sedangkan yang paling sedikit adalah yang total pasien hanya 1 orang yaitu 101,104,106,114,117,123,129,154,155,56,164,165,172,174,192,200 "
   ]
  },
  {
   "cell_type": "markdown",
   "metadata": {},
   "source": [
    "b) Find and interpret the joint distribution in a two-way table.   jawab : joint distribution pada two way table diatas adalah trestbps terhadap sex atau tekanan darah terhadap jenis kelamin pada pasien penderita penyakit hati "
   ]
  },
  {
   "cell_type": "markdown",
   "metadata": {},
   "source": [
    "c) Find and interpret the marginal distributions in a two-way table   jawab : pada two way table diatas termasuk marginal distribution karena satu diantara dua variabel adalah kategorikal variabel yaitu variabel sex kondisi yable yang seperti ini akan lebih mudah dihitung "
   ]
  },
  {
   "cell_type": "markdown",
   "metadata": {},
   "source": [
    "d) Determine the joint distribution, the marginal distributions, and the conditional distributions in a two-way table from software output.   jawab : apabila kita lihat two way table diatas kita dapat menentukan bahwa jenis table diatas adalah marginal distribution karena terdapat satu kategorical variabel yaitu variabel sex "
   ]
  },
  {
   "cell_type": "markdown",
   "metadata": {},
   "source": [
    "e) Interpret examples of Simpson’s paradox.   jawab : simpson paradox adalh kondisi yang mempengaruhi kondisi dari tabel apabila kita memasukan satu variabel lagi pada kasus tabel diatas mungkin akan berubah apabila kita menambahkan satu lagi variabel sebagai contoh adalah variabel chol atau kolestrol yang akan merubah dan mempengaruhi tabel yang ada diatas."
   ]
  },
  {
   "cell_type": "code",
   "execution_count": null,
   "metadata": {},
   "outputs": [],
   "source": []
  }
 ],
 "metadata": {
  "kernelspec": {
   "display_name": "Python 3",
   "language": "python",
   "name": "python3"
  },
  "language_info": {
   "codemirror_mode": {
    "name": "ipython",
    "version": 3
   },
   "file_extension": ".py",
   "mimetype": "text/x-python",
   "name": "python",
   "nbconvert_exporter": "python",
   "pygments_lexer": "ipython3",
   "version": "3.8.3"
  }
 },
 "nbformat": 4,
 "nbformat_minor": 4
}
