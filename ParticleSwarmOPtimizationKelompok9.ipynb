{
 "cells": [
  {
   "cell_type": "markdown",
   "metadata": {},
   "source": [
    "## Kelompok 9\n",
    "Haris Putra Ramadhan\t\n",
    "Rafli Ramadansyah\n",
    "Bariq Adhi Nugraha\t\n",
    "Lilis Suryan\t\n",
    "Wiwik Sagita\t\n",
    "Bayu Izzah Salam\t\n",
    "Angga Dewantara\t\n",
    "Rahman Nul Hakim\t\n",
    "Zainudin"
   ]
  },
  {
   "cell_type": "markdown",
   "metadata": {},
   "source": [
    "## Particle Swarm Optimization\n",
    "Particle Swarm Optimization (PSO) merupakan metode optimasi yang dapat digunakan untuk menentukan parameter-parameter proses yang menghasilkan nilai respon yang optimum.\n"
   ]
  },
  {
   "cell_type": "markdown",
   "metadata": {},
   "source": [
    "## Implementasi Particle Swarm Optimization\n",
    "\n",
    "Pada artikel ini kita akan mengimplementasikan optimasi segerombolan partikel (PSO) untuk dua fungsi fitness 1) Fungsi Rastrigin 2) Fungsi Sphere. Algoritme akan berjalan untuk jumlah iterasi maksimum yang telah ditentukan sebelumnya dan akan mencoba menemukan nilai minimum dari fungsi kebugaran ini."
   ]
  },
  {
   "attachments": {
    "quicklatex.com-1486e899fbbd9263b935664f41e1954c_l3.svg": {
     "image/svg+xml": [
      "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"
     ]
    }
   },
   "cell_type": "markdown",
   "metadata": {},
   "source": [
    "### Fungsi kebugaran\n",
    "1) Fungsi rastrigin\n",
    "Fungsi Rastrigin adalah fungsi non-cembung dan sering digunakan sebagai masalah uji kinerja untuk algoritma optimasi.\n",
    "function equation:\n",
    "\n",
    "![quicklatex.com-1486e899fbbd9263b935664f41e1954c_l3.svg](attachment:quicklatex.com-1486e899fbbd9263b935664f41e1954c_l3.svg)\n",
    "\n",
    "minimum at f(0,...,0)\n",
    "\n",
    "Fig1: Rastrigin function for 2 variables\n",
    "    \n",
    "Untuk algoritma optimasi, fungsi rastrigin sangat menantang. Perilakunya yang kompleks menyebabkan algoritme pengoptimalan sering macet di minimum lokal. Memiliki banyak osilasi kosinus pada bidang memperkenalkan perilaku kompleks pada fungsi ini."
   ]
  },
  {
   "cell_type": "markdown",
   "metadata": {},
   "source": [
    "2) Sphere function\n",
    "Fungsi bola adalah fungsi standar untuk mengevaluasi kinerja suatu algoritma optimasi.\n",
    "\n",
    "function equation:\n",
    "\n",
    "Fig2: Sphere function for 2 variables"
   ]
  },
  {
   "cell_type": "code",
   "execution_count": 39,
   "metadata": {},
   "outputs": [],
   "source": [
    "# python implementation of particle swarm optimization (PSO)\n",
    "# minimizing rastrigin and sphere function\n",
    " \n",
    "import random\n",
    "import math    # cos() for Rastrigin\n",
    "import copy    # array-copying convenience\n",
    "import sys     # max float\n"
   ]
  },
  {
   "cell_type": "markdown",
   "metadata": {},
   "source": [
    "Code diatas menjelaskan tentang:\n",
    "\n",
    "import random, merupakan library untk mengambil angka random sebagai value dari posisi dan velocity dari particle swamp import math, digunakan untuk mengambil fungsi cos yang dibutuhkan pada function rastrigin import copy, digunakan untuk mempermudah pengambilan value melalui fungsi seperti copy pada fungsi ctrl+c komputer import sys, berfungsi memberikan informasi tentang konstanta, fungsi dan metode interpreter Python yang diperlukan (dalam kasus ini adalah max float python)"
   ]
  },
  {
   "cell_type": "code",
   "execution_count": 32,
   "metadata": {},
   "outputs": [],
   "source": [
    "#-------fitness functions---------\n",
    " \n",
    "# rastrigin function\n",
    "def fitness_rastrigin(position):\n",
    "  fitnessVal = 0.0\n",
    "  for i in range(len(position)):\n",
    "    xi = position[i]\n",
    "    fitnessVal += (xi * xi) - (10 * math.cos(2 * math.pi * xi)) + 10\n",
    "  return fitnessVal"
   ]
  },
  {
   "cell_type": "markdown",
   "metadata": {},
   "source": [
    "Def fitness adalah fungsi def untuk menetukan nilai variable rastrigin yang akan digunakan serta menggunkan fungsi nya degan range position"
   ]
  },
  {
   "cell_type": "code",
   "execution_count": 33,
   "metadata": {},
   "outputs": [],
   "source": [
    "#sphere function\n",
    "def fitness_sphere(position):\n",
    "    fitnessVal = 0.0\n",
    "    for i in range(len(position)):\n",
    "        xi = position[i]\n",
    "        fitnessVal += (xi*xi);\n",
    "    return fitnessVal;\n",
    "#-------------------------\n",
    " "
   ]
  },
  {
   "cell_type": "markdown",
   "metadata": {},
   "source": [
    "Def sphere adalah fungsi def untuk menetukan nilai variable sphere yang akan digunakan serta menggunkan fungsi nya degan range position"
   ]
  },
  {
   "cell_type": "code",
   "execution_count": 34,
   "metadata": {},
   "outputs": [],
   "source": [
    "class Particle:\n",
    "  def __init__(self, fitness, dim, minx, maxx, seed):\n",
    "    self.rnd = random.Random(seed)\n",
    " \n",
    "    # initialize position of the particle with 0.0 value\n",
    "    self.position = [0.0 for i in range(dim)]\n",
    " \n",
    "     # initialize velocity of the particle with 0.0 value\n",
    "    self.velocity = [0.0 for i in range(dim)]\n",
    " \n",
    "    # initialize best particle position of the particle with 0.0 value\n",
    "    self.best_part_pos = [0.0 for i in range(dim)]\n",
    " \n",
    "    # loop dim times to calculate random position and velocity\n",
    "    # range of position and velocity is [minx, max]\n",
    "    for i in range(dim):\n",
    "      self.position[i] = ((maxx - minx) *\n",
    "        self.rnd.random() + minx)\n",
    "      self.velocity[i] = ((maxx - minx) *\n",
    "        self.rnd.random() + minx)\n",
    "    # compute fitness of particle\n",
    "    self.fitness = fitness(self.position) # curr fitness\n",
    " \n",
    "    # initialize best position and fitness of this particle\n",
    "    self.best_part_pos = copy.copy(self.position)\n",
    "    self.best_part_fitnessVal = self.fitness # best fitness"
   ]
  },
  {
   "cell_type": "markdown",
   "metadata": {},
   "source": [
    "Pada \n",
    "def __init__(self, fitness, dim, minx, maxx, seed):\n",
    "    self.rnd = random.Random(seed)\n",
    "Mendefenisikan rnd dengan random.random(seed) untuk menghasilkan urutan angka dengan nilai seed.\n",
    "\n",
    "self.position = [0.0 for i in range(dim)]\n",
    "mendefenisikan position dengan [0.0 for i in range(dim)] untuk menginisialisasikan posisi partikel dengan nilai 0,0\n",
    "self.velocity = [0.0 for i in range(dim)]\n",
    "mendefenisikan position dengan [0.0 for i in range(dim)] untuk menginisialisasikan kecepatan partikel dengan nilai 0,0\n",
    "self.best_part_pos = [0.0 for i in range(dim)]\n",
    "mendefenisikan position dengan [0.0 for i in range(dim)] untuk menginisialisasikan posisi partikel terbaik dari partikel dengan nilai 0,0\n",
    "lalu funngsi loop digunaka untuk memasukan posisi partike dalam jarak dari awal posisi daru nilai urutan seed atao random diatas"
   ]
  },
  {
   "cell_type": "code",
   "execution_count": 35,
   "metadata": {},
   "outputs": [],
   "source": [
    "# particle swarm optimization function\n",
    "def pso(fitness, max_iter, n, dim, minx, maxx):\n",
    "  # hyper parameters\n",
    "  w = 0.729    # inertia\n",
    "  c1 = 1.49445 # cognitive (particle)\n",
    "  c2 = 1.49445 # social (swarm)\n",
    " \n",
    "  rnd = random.Random(0)\n",
    " \n",
    "  # create n random particles\n",
    "  swarm = [Particle(fitness, dim, minx, maxx, i) for i in range(n)]\n",
    " \n",
    "  # compute the value of best_position and best_fitness in swarm\n",
    "  best_swarm_pos = [0.0 for i in range(dim)]\n",
    "  best_swarm_fitnessVal = sys.float_info.max # swarm best\n",
    " \n",
    "  # computer best particle of swarm and it's fitness\n",
    "  for i in range(n): # check each particle\n",
    "    if swarm[i].fitness < best_swarm_fitnessVal:\n",
    "      best_swarm_fitnessVal = swarm[i].fitness\n",
    "      best_swarm_pos = copy.copy(swarm[i].position)\n",
    " # main loop of pso\n",
    "  Iter = 0\n",
    "  while Iter < max_iter:\n",
    "     \n",
    "    # after every 10 iterations\n",
    "    # print iteration number and best fitness value so far\n",
    "    if Iter % 10 == 0 and Iter > 1:\n",
    "      print(\"Iter = \" + str(Iter) + \" best fitness = %.3f\" % best_swarm_fitnessVal)\n",
    " \n",
    "    for i in range(n): # process each particle\n",
    "       \n",
    "      # compute new velocity of curr particle\n",
    "      for k in range(dim):\n",
    "        r1 = rnd.random()    # randomizations\n",
    "        r2 = rnd.random()\n",
    "     \n",
    "        swarm[i].velocity[k] = (\n",
    "                                 (w * swarm[i].velocity[k]) +\n",
    "                                 (c1 * r1 * (swarm[i].best_part_pos[k] - swarm[i].position[k])) + \n",
    "                                 (c2 * r2 * (best_swarm_pos[k] -swarm[i].position[k]))\n",
    "                               ) \n",
    " \n",
    " \n",
    "        # if velocity[k] is not in [minx, max]\n",
    "        # then clip it\n",
    "        if swarm[i].velocity[k] < minx:\n",
    "          swarm[i].velocity[k] = minx\n",
    "        elif swarm[i].velocity[k] > maxx:\n",
    "          swarm[i].velocity[k] = maxx\n",
    " \n",
    " \n",
    "      # compute new position using new velocity\n",
    "      for k in range(dim):\n",
    "        swarm[i].position[k] += swarm[i].velocity[k]\n",
    "   \n",
    "      # compute fitness of new position\n",
    "      swarm[i].fitness = fitness(swarm[i].position)\n",
    " \n",
    "      # is new position a new best for the particle?\n",
    "      if swarm[i].fitness < swarm[i].best_part_fitnessVal:\n",
    "        swarm[i].best_part_fitnessVal = swarm[i].fitness\n",
    "        swarm[i].best_part_pos = copy.copy(swarm[i].position)\n",
    " \n",
    "      # is new position a new best overall?\n",
    "      if swarm[i].fitness < best_swarm_fitnessVal:\n",
    "        best_swarm_fitnessVal = swarm[i].fitness\n",
    "        best_swarm_pos = copy.copy(swarm[i].position)\n",
    "     \n",
    "    # for-each particle\n",
    "    Iter += 1\n",
    "  #end_while\n",
    "  return best_swarm_pos\n",
    "# end pso\n",
    " "
   ]
  },
  {
   "cell_type": "markdown",
   "metadata": {},
   "source": [
    "def pso(fitness, max_iter, n, dim, minx, maxx):\n",
    "  # hyper parameters\n",
    "  w = 0.729    # inertia\n",
    "  c1 = 1.49445 # cognitive (particle)\n",
    "  c2 = 1.49445 # social (swarm)\n",
    "pada function pso dengan parameter fitness untuk kecocokan, max_iter untuk nilai maksimal pada iterasi atau perulangan, dim untuk dimensi, minx untuk nilai minimum x, dan maxx untuk nilai maksimum x\n",
    "lalu, kita buat variabel w untuk inersia yaitu 0.729, c1 untuk particle dengan nilai 1.49445 dan c2 untuk swarm dengan nilai 1.49445\n",
    "rnd = random.Random(0)\n",
    "pada variabel rnd kita buat nilai random dengan memanfaat modul random pada python\n",
    "\n",
    "\n",
    "# create n random particles\n",
    "  swarm = [Particle(fitness, dim, minx, maxx, i) for i in range(n)]\n",
    "pada bagian ini kita akan membuat particle secara random dengan melakukan perulangan \n",
    "\n",
    "# compute the value of best_position and best_fitness in swarm\n",
    "  best_swarm_pos = [0.0 for i in range(dim)]\n",
    "  best_swarm_fitnessVal = sys.float_info.max # swarm best\n",
    "\n",
    "pada bagian ini kita melakukan perhitungan untuk mencari posisi nilai  yang terbaik dan yang paling cocok pada swarm dengan melakukan checking menggunakan perulangan pada parameter dim atau dimensi \n",
    "\n",
    "  # computer best particle of swarm and it's fitness\n",
    "  for i in range(n): # check each particle\n",
    "    if swarm[i].fitness < best_swarm_fitnessVal:\n",
    "      best_swarm_fitnessVal = swarm[i].fitness\n",
    "      best_swarm_pos = copy.copy(swarm[i].position)\n",
    "\n",
    "pada bagian ini kita melakukan iterasi atau perulangan untuk checking setiap nilai pada parameter n yang apabila nilai swarm ke-i lebih kecil dari best_swarm_fitnessVal maka nilai best_swarm_fitnessVal akan diganti dengan swarm[i].fitness\n",
    "\n"
   ]
  },
  {
   "cell_type": "code",
   "execution_count": 36,
   "metadata": {},
   "outputs": [
    {
     "name": "stdout",
     "output_type": "stream",
     "text": [
      "\n",
      "Begin particle swarm optimization on rastrigin function\n",
      "\n",
      "Goal is to minimize Rastrigin's function in 3 variables\n",
      "Function has known min = 0.0 at (0, 0, 0)\n",
      "Setting num_particles = 50\n",
      "Setting max_iter    = 100\n",
      "\n",
      "Starting PSO algorithm\n",
      "\n",
      "Iter = 10 best fitness = 8.463\n",
      "Iter = 20 best fitness = 4.792\n",
      "Iter = 30 best fitness = 2.223\n",
      "Iter = 40 best fitness = 0.251\n",
      "Iter = 50 best fitness = 0.251\n",
      "Iter = 60 best fitness = 0.061\n",
      "Iter = 70 best fitness = 0.007\n",
      "Iter = 80 best fitness = 0.005\n",
      "Iter = 90 best fitness = 0.000\n",
      "\n",
      "PSO completed\n",
      "\n",
      "\n",
      "Best solution found:\n",
      "['0.000618', '0.000013', '0.000616']\n",
      "fitness of best solution = 0.000151\n",
      "\n",
      "End particle swarm for rastrigin function\n",
      "\n",
      "\n",
      "\n"
     ]
    }
   ],
   "source": [
    "#----------------------------\n",
    "# Driver code for rastrigin function\n",
    " \n",
    "print(\"\\nBegin particle swarm optimization on rastrigin function\\n\")\n",
    "dim = 3\n",
    "fitness = fitness_rastrigin\n",
    " \n",
    " \n",
    "print(\"Goal is to minimize Rastrigin's function in \" + str(dim) + \" variables\")\n",
    "print(\"Function has known min = 0.0 at (\", end=\"\")\n",
    "for i in range(dim-1):\n",
    "  print(\"0, \", end=\"\")\n",
    "print(\"0)\")\n",
    " \n",
    "num_particles = 50\n",
    "max_iter = 100\n",
    " \n",
    "print(\"Setting num_particles = \" + str(num_particles))\n",
    "print(\"Setting max_iter    = \" + str(max_iter))\n",
    "print(\"\\nStarting PSO algorithm\\n\")\n",
    " \n",
    " \n",
    " \n",
    "best_position = pso(fitness, max_iter, num_particles, dim, -10.0, 10.0)\n",
    " \n",
    "print(\"\\nPSO completed\\n\")\n",
    "print(\"\\nBest solution found:\")\n",
    "print([\"%.6f\"%best_position[k] for k in range(dim)])\n",
    "fitnessVal = fitness(best_position)\n",
    "print(\"fitness of best solution = %.6f\" % fitnessVal)\n",
    " \n",
    "print(\"\\nEnd particle swarm for rastrigin function\\n\")\n",
    " \n",
    " \n",
    "print()\n",
    "print()\n",
    " "
   ]
  },
  {
   "cell_type": "markdown",
   "metadata": {},
   "source": [
    "Rastrigin function digunakan untuk membuat grafik 3 dimensi. Pada kode tersebut dideklarasikan dengan dim = 3 dan fitness = fitness_rastrigin. Pada kode for i in range(dim-1), jika telah mencapai batas yg telah dideklarasikan, maka akan tercetak nilai 0. Banyak partikel yang dideklarasikan oleh variable num_particles adlah 50, dan iter maks 100. \n",
    "Kode berikut “best_position = pso(fitness, max_iter, num_particles, dim, -10.0, 10.0)” berfungsi untuk mencari solusi terbaik dari partikel tersebut. Setelah itu nilai dicetak untuk ditampilkan output dari fungsi rastrigin.\n"
   ]
  },
  {
   "cell_type": "code",
   "execution_count": 37,
   "metadata": {},
   "outputs": [
    {
     "name": "stdout",
     "output_type": "stream",
     "text": [
      "\n",
      "Begin particle swarm optimization on sphere function\n",
      "\n",
      "Goal is to minimize sphere function in 3 variables\n",
      "Function has known min = 0.0 at (0, 0, 0)\n",
      "Setting num_particles = 50\n",
      "Setting max_iter    = 100\n",
      "\n",
      "Starting PSO algorithm\n",
      "\n",
      "Iter = 10 best fitness = 0.189\n",
      "Iter = 20 best fitness = 0.012\n",
      "Iter = 30 best fitness = 0.001\n",
      "Iter = 40 best fitness = 0.000\n",
      "Iter = 50 best fitness = 0.000\n",
      "Iter = 60 best fitness = 0.000\n",
      "Iter = 70 best fitness = 0.000\n",
      "Iter = 80 best fitness = 0.000\n",
      "Iter = 90 best fitness = 0.000\n",
      "\n",
      "PSO completed\n",
      "\n",
      "\n",
      "Best solution found:\n",
      "['0.000004', '-0.000001', '0.000007']\n",
      "fitness of best solution = 0.000000\n",
      "\n",
      "End particle swarm for sphere function\n",
      "\n"
     ]
    }
   ],
   "source": [
    "# Driver code for Sphere function\n",
    "print(\"\\nBegin particle swarm optimization on sphere function\\n\")\n",
    "dim = 3\n",
    "fitness = fitness_sphere\n",
    " \n",
    " \n",
    "print(\"Goal is to minimize sphere function in \" + str(dim) + \" variables\")\n",
    "print(\"Function has known min = 0.0 at (\", end=\"\")\n",
    "for i in range(dim-1):\n",
    "  print(\"0, \", end=\"\")\n",
    "print(\"0)\")\n",
    " \n",
    "num_particles = 50\n",
    "max_iter = 100\n",
    " \n",
    "print(\"Setting num_particles = \" + str(num_particles))\n",
    "print(\"Setting max_iter    = \" + str(max_iter))\n",
    "print(\"\\nStarting PSO algorithm\\n\")\n",
    " \n",
    " \n",
    " \n",
    "best_position = pso(fitness, max_iter, num_particles, dim, -10.0, 10.0)\n",
    " \n",
    "print(\"\\nPSO completed\\n\")\n",
    "print(\"\\nBest solution found:\")\n",
    "print([\"%.6f\"%best_position[k] for k in range(dim)])\n",
    "fitnessVal = fitness(best_position)\n",
    "print(\"fitness of best solution = %.6f\" % fitnessVal)\n",
    " \n",
    "print(\"\\nEnd particle swarm for sphere function\\n\")"
   ]
  },
  {
   "cell_type": "markdown",
   "metadata": {},
   "source": [
    "Fungsi Sphere Adalah untuk menampilkan particle swarm optimization pada sphere function Tujuannya adalah untuk meminimalkan sphare function dalam 3 variabel yaitu function known min, setting num_particles, dan setting max_iter. Menampilkan hasil PSO algorithm dan hasil solusi terbaik."
   ]
  },
  {
   "cell_type": "markdown",
   "metadata": {},
   "source": [
    "## Referensi\n",
    "\n",
    "Research paper citation: Kennedy, J. and Eberhart, R., 1995, November. Particle swarm optimization. In Proceedings of ICNN’95-international conference on neural networks (Vol. 4, pp. 1942-1948). IEEE.\n",
    "\n",
    "Inspiration of the implementation: https://fr.mathworks.com/matlabcentral/fileexchange/67429-a-simple-implementation-of-particle-swarm-optimization-pso-algorithm"
   ]
  },
  {
   "cell_type": "code",
   "execution_count": null,
   "metadata": {},
   "outputs": [],
   "source": []
  }
 ],
 "metadata": {
  "kernelspec": {
   "display_name": "Python 3",
   "language": "python",
   "name": "python3"
  },
  "language_info": {
   "codemirror_mode": {
    "name": "ipython",
    "version": 3
   },
   "file_extension": ".py",
   "mimetype": "text/x-python",
   "name": "python",
   "nbconvert_exporter": "python",
   "pygments_lexer": "ipython3",
   "version": "3.8.3"
  }
 },
 "nbformat": 4,
 "nbformat_minor": 5
}
