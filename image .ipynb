{
 "cells": [
  {
   "cell_type": "code",
   "execution_count": 1,
   "metadata": {},
   "outputs": [],
   "source": [
    "import os\n",
    "import cv2\n",
    "from PIL import Image\n",
    "import numpy as np\n",
    "from sklearn.model_selection import train_test_split"
   ]
  },
  {
   "cell_type": "code",
   "execution_count": 2,
   "metadata": {},
   "outputs": [
    {
     "data": {
      "text/plain": [
       "'C:\\\\Users\\\\bayui'"
      ]
     },
     "execution_count": 2,
     "metadata": {},
     "output_type": "execute_result"
    }
   ],
   "source": [
    "os.getcwd()"
   ]
  },
  {
   "cell_type": "code",
   "execution_count": 3,
   "metadata": {},
   "outputs": [],
   "source": [
    "os.chdir('E:')"
   ]
  },
  {
   "cell_type": "code",
   "execution_count": 4,
   "metadata": {},
   "outputs": [
    {
     "data": {
      "text/plain": [
       "'E:\\\\'"
      ]
     },
     "execution_count": 4,
     "metadata": {},
     "output_type": "execute_result"
    }
   ],
   "source": [
    "os.getcwd()"
   ]
  },
  {
   "cell_type": "code",
   "execution_count": 5,
   "metadata": {},
   "outputs": [],
   "source": [
    "data_path = 'E:/Image/'"
   ]
  },
  {
   "cell_type": "code",
   "execution_count": 6,
   "metadata": {},
   "outputs": [
    {
     "data": {
      "text/plain": [
       "['batagor', 'bukan batagor']"
      ]
     },
     "execution_count": 6,
     "metadata": {},
     "output_type": "execute_result"
    }
   ],
   "source": [
    "class_data = os.listdir(data_path)\n",
    "class_data"
   ]
  },
  {
   "cell_type": "code",
   "execution_count": 7,
   "metadata": {},
   "outputs": [
    {
     "name": "stdout",
     "output_type": "stream",
     "text": [
      "No. of image =  606 \n",
      "No.of label =  606\n",
      "<class 'list'> <class 'list'>\n"
     ]
    }
   ],
   "source": [
    "def load_image_and_label(class_data):\n",
    "    image=[]\n",
    "    label=[]\n",
    "    for index, category in enumerate(class_data):\n",
    "        for image_name in os.listdir(data_path+\"/\"+category):\n",
    "            img = cv2.imread(data_path+\"/\"+category+\"/\"+image_name)\n",
    "            img = cv2.cvtColor(img,cv2.COLOR_BGR2RGB)\n",
    "            \n",
    "            img_array = Image.fromarray(img, 'RGB')\n",
    "            \n",
    "            resize_img = img_array.resize((227, 227))\n",
    "            \n",
    "            image.append(np.array(resize_img))\n",
    "            \n",
    "            label.append(index)\n",
    "    return image, label\n",
    "\n",
    "images_final, label_final = load_image_and_label(class_data)\n",
    "print(\"No. of image = \", len(images_final), \"\\nNo.of label = \", len(label_final))\n",
    "print(type(images_final), type(label_final))\n",
    "        "
   ]
  },
  {
   "cell_type": "code",
   "execution_count": 8,
   "metadata": {},
   "outputs": [
    {
     "name": "stdout",
     "output_type": "stream",
     "text": [
      "Images shape =  (606, 227, 227, 3) \n",
      "Labels shape =  (606,)\n",
      "<class 'numpy.ndarray'> <class 'numpy.ndarray'>\n"
     ]
    }
   ],
   "source": [
    "images_final = np.array(images_final)\n",
    "label_final = np.array(label_final)\n",
    "\n",
    "print(\"Images shape = \", images_final.shape,\"\\nLabels shape = \", label_final.shape)\n",
    "print(type(images_final), type(label_final))"
   ]
  },
  {
   "cell_type": "code",
   "execution_count": 9,
   "metadata": {},
   "outputs": [
    {
     "name": "stdout",
     "output_type": "stream",
     "text": [
      "Before shuffling =  [  0   1   2   3   4   5   6   7   8   9  10  11  12  13  14  15  16  17\n",
      "  18  19  20  21  22  23  24  25  26  27  28  29  30  31  32  33  34  35\n",
      "  36  37  38  39  40  41  42  43  44  45  46  47  48  49  50  51  52  53\n",
      "  54  55  56  57  58  59  60  61  62  63  64  65  66  67  68  69  70  71\n",
      "  72  73  74  75  76  77  78  79  80  81  82  83  84  85  86  87  88  89\n",
      "  90  91  92  93  94  95  96  97  98  99 100 101 102 103 104 105 106 107\n",
      " 108 109 110 111 112 113 114 115 116 117 118 119 120 121 122 123 124 125\n",
      " 126 127 128 129 130 131 132 133 134 135 136 137 138 139 140 141 142 143\n",
      " 144 145 146 147 148 149 150 151 152 153 154 155 156 157 158 159 160 161\n",
      " 162 163 164 165 166 167 168 169 170 171 172 173 174 175 176 177 178 179\n",
      " 180 181 182 183 184 185 186 187 188 189 190 191 192 193 194 195 196 197\n",
      " 198 199 200 201 202 203 204 205 206 207 208 209 210 211 212 213 214 215\n",
      " 216 217 218 219 220 221 222 223 224 225 226 227 228 229 230 231 232 233\n",
      " 234 235 236 237 238 239 240 241 242 243 244 245 246 247 248 249 250 251\n",
      " 252 253 254 255 256 257 258 259 260 261 262 263 264 265 266 267 268 269\n",
      " 270 271 272 273 274 275 276 277 278 279 280 281 282 283 284 285 286 287\n",
      " 288 289 290 291 292 293 294 295 296 297 298 299 300 301 302 303 304 305\n",
      " 306 307 308 309 310 311 312 313 314 315 316 317 318 319 320 321 322 323\n",
      " 324 325 326 327 328 329 330 331 332 333 334 335 336 337 338 339 340 341\n",
      " 342 343 344 345 346 347 348 349 350 351 352 353 354 355 356 357 358 359\n",
      " 360 361 362 363 364 365 366 367 368 369 370 371 372 373 374 375 376 377\n",
      " 378 379 380 381 382 383 384 385 386 387 388 389 390 391 392 393 394 395\n",
      " 396 397 398 399 400 401 402 403 404 405 406 407 408 409 410 411 412 413\n",
      " 414 415 416 417 418 419 420 421 422 423 424 425 426 427 428 429 430 431\n",
      " 432 433 434 435 436 437 438 439 440 441 442 443 444 445 446 447 448 449\n",
      " 450 451 452 453 454 455 456 457 458 459 460 461 462 463 464 465 466 467\n",
      " 468 469 470 471 472 473 474 475 476 477 478 479 480 481 482 483 484 485\n",
      " 486 487 488 489 490 491 492 493 494 495 496 497 498 499 500 501 502 503\n",
      " 504 505 506 507 508 509 510 511 512 513 514 515 516 517 518 519 520 521\n",
      " 522 523 524 525 526 527 528 529 530 531 532 533 534 535 536 537 538 539\n",
      " 540 541 542 543 544 545 546 547 548 549 550 551 552 553 554 555 556 557\n",
      " 558 559 560 561 562 563 564 565 566 567 568 569 570 571 572 573 574 575\n",
      " 576 577 578 579 580 581 582 583 584 585 586 587 588 589 590 591 592 593\n",
      " 594 595 596 597 598 599 600 601 602 603 604 605]\n",
      "\n",
      "After shuffling =  [572 289  76  78 182 582  10 131 444  86  70 574 494 210  55 403  30 280\n",
      " 109 594   2 184 601 204 192 137 320 260 561 442  72 332 447 525 211 576\n",
      " 597 363 244 301 570 468  29 512 528  24 208  81 547 482 540 176 542 565\n",
      " 514 555 158 259 238 145 419 196  77  63 165 541 110 571 360  82 277 506\n",
      "   6 118 155 231 188 286 104 274 101 464 135 445 368  73  39 463 287 261\n",
      " 177 488 478  60 319 495 281 412  11 602  83  90 209 310 338  79 291 533\n",
      " 290 181 428 247 148 551 163 375 268 249 365 452 388 235   9 227 590 377\n",
      " 132 355 299 592 234  84 195 472 140 595 369  75  92 357  68  15 153 333\n",
      "  88 569 117 544 422  33   0 599 543 361 335 296 245  22 446 116  89 353\n",
      " 212  18 500 515 144 284 275 546 364 390 316 578 405 167  54 434  46  93\n",
      " 265 108 564 605 485 441 305 465 218 399 604 257 477  69 271 408 593 311\n",
      " 199 486 149 124 433 522 185 228 499 248 264 250 449 370 557 473 114 203\n",
      " 141 341   7 526  19 172 457  56 302 439 456 362 581  49 404  25 530 220\n",
      " 350 298  42 421 524 374 278 382 402 416 154 126 312 346 451 174  31 113\n",
      "  23 173 318  66  57 371 222  17 300 255 352 579 190 321 532 272  94 180\n",
      " 334 331 587   5  45 536 479 383  16  48 585 493   3 329 443 556 438 304\n",
      " 225  26 429 263  50 229  37 157 237 580 175 505 354 194 575 328 584 516\n",
      "  67 322 168 553 162 309 193 152 437 340 588 336 103 395  74 554 583 119\n",
      " 518 414 487 207 349 356 344 409   8 381  36 139 253 303 394  59 111 367\n",
      " 424 262 519 297 150 266 523 535  38 436 307 198 470 496 146 545 537 147\n",
      " 425 348 325 396 123 509  96 143 239 380  97 324 279 293 483 122 183 202\n",
      " 323 246 423 411 567 415 534 393 125 431 517 223 342  53 219 129 548 398\n",
      " 453 550 400 490 407 386 586 294 507 467 420 112 179 426 598 539 373 314\n",
      " 151 497 233 306 432 164 317 136 410 197 481 258 232 115 120 480 376 384\n",
      " 224 573 462 347 127 596 285 558  43 107 511 450 133 440 501  44 169  65\n",
      " 283  85 242 186 326 159  12  35  28 170 142 236 469 503 221 549  95  51\n",
      " 240 513 351 521 178 460 531  41 559 527 206 392 282 358 397 254 217   4\n",
      " 256 568 538 430 100 226 448 552 577 213 359 171  98 292 215  61 406 502\n",
      "  47  32 417 267 327 200 134  27 529 230 489 378 288 418 391 498 138  62\n",
      " 471 128 589 520  64  14 156  40 492 379 187 216  52 337 295 251 461 455\n",
      " 603 269 201 161 401 476 105 389   1 563  80 205  34 508 427 454 366  91\n",
      " 339 345 241  13 315 387 273 166 600 484 591 504 243 566 562 189 475 510\n",
      "  58 474 560 252  21 313 459 160 276 191 385 413 491 343 308 130  99 372\n",
      "  87 458 330 214 466 121  20  71 106 270 435 102]\n"
     ]
    }
   ],
   "source": [
    "random_seed = 42\n",
    "\n",
    "n = np.arange(images_final.shape[0])\n",
    "print(\"Before shuffling = \", n)\n",
    "\n",
    "np.random.seed(random_seed)\n",
    "np.random.shuffle(n)\n",
    "print(\"\\nAfter shuffling = \", n)"
   ]
  },
  {
   "cell_type": "code",
   "execution_count": 10,
   "metadata": {},
   "outputs": [
    {
     "name": "stdout",
     "output_type": "stream",
     "text": [
      "Images after shuffling =  (606, 227, 227, 3) \n",
      "Label after shuffling =  (606,)\n"
     ]
    }
   ],
   "source": [
    "images_final = images_final[n]\n",
    "label_final = label_final[n]\n",
    "\n",
    "print(\"Images after shuffling = \", images_final.shape, \"\\nLabel after shuffling = \", label_final.shape)"
   ]
  },
  {
   "cell_type": "code",
   "execution_count": 11,
   "metadata": {},
   "outputs": [
    {
     "name": "stdout",
     "output_type": "stream",
     "text": [
      "Images after normalization =  (606, 227, 227, 3)\n"
     ]
    }
   ],
   "source": [
    "images_final = images_final.astype(np.float32)\n",
    "label_final = label_final.astype(np.int32)\n",
    "images_final = images_final/255\n",
    "\n",
    "print(\"Images after normalization = \", images_final.shape)"
   ]
  },
  {
   "cell_type": "code",
   "execution_count": 12,
   "metadata": {},
   "outputs": [
    {
     "name": "stdout",
     "output_type": "stream",
     "text": [
      "x_train shape =  (484, 227, 227, 3)\n",
      "y_train shape =  (484,)\n",
      "\n",
      "x_test shape =  (122, 227, 227, 3)\n",
      "y_test shape =  (122,)\n"
     ]
    }
   ],
   "source": [
    "x_train, x_test, y_train, y_test = train_test_split(images_final, label_final, test_size = 0.2, random_state=random_seed)\n",
    "\n",
    "print(\"x_train shape = \", x_train.shape)\n",
    "print(\"y_train shape = \", y_train.shape)\n",
    "print(\"\\nx_test shape = \", x_test.shape)\n",
    "print(\"y_test shape = \", y_test.shape)"
   ]
  },
  {
   "cell_type": "code",
   "execution_count": 26,
   "metadata": {},
   "outputs": [],
   "source": [
    "import tensorflow as tf"
   ]
  },
  {
   "cell_type": "code",
   "execution_count": 27,
   "metadata": {},
   "outputs": [],
   "source": [
    "from tensorflow.keras import layers, models"
   ]
  },
  {
   "cell_type": "code",
   "execution_count": 30,
   "metadata": {},
   "outputs": [],
   "source": [
    "from tensorflow.keras.optimizers import RMSprop, Adam, SGD"
   ]
  },
  {
   "cell_type": "code",
   "execution_count": 29,
   "metadata": {},
   "outputs": [
    {
     "name": "stdout",
     "output_type": "stream",
     "text": [
      "Model: \"sequential_1\"\n",
      "_________________________________________________________________\n",
      " Layer (type)                Output Shape              Param #   \n",
      "=================================================================\n",
      " conv2d_7 (Conv2D)           (None, 225, 225, 32)      896       \n",
      "                                                                 \n",
      " max_pooling2d_2 (MaxPooling  (None, 112, 112, 32)     0         \n",
      " 2D)                                                             \n",
      "                                                                 \n",
      " conv2d_8 (Conv2D)           (None, 110, 110, 64)      18496     \n",
      "                                                                 \n",
      " max_pooling2d_3 (MaxPooling  (None, 55, 55, 64)       0         \n",
      " 2D)                                                             \n",
      "                                                                 \n",
      " conv2d_9 (Conv2D)           (None, 53, 53, 64)        36928     \n",
      "                                                                 \n",
      " flatten_1 (Flatten)         (None, 179776)            0         \n",
      "                                                                 \n",
      " dense_2 (Dense)             (None, 64)                11505728  \n",
      "                                                                 \n",
      " dense_3 (Dense)             (None, 2)                 130       \n",
      "                                                                 \n",
      "=================================================================\n",
      "Total params: 11,562,178\n",
      "Trainable params: 11,562,178\n",
      "Non-trainable params: 0\n",
      "_________________________________________________________________\n"
     ]
    }
   ],
   "source": [
    "def create_simple_cnn(input_shape, num_classes):\n",
    "    model = models.Sequential()\n",
    "    \n",
    "    # Layer konvolusi pertama dengan 32 filter ukuran 3x3\n",
    "    model.add(layers.Conv2D(32, (3, 3), activation='relu', input_shape=input_shape))\n",
    "    # Layer pooling pertama\n",
    "    model.add(layers.MaxPooling2D((2, 2)))\n",
    "    \n",
    "    # Layer konvolusi kedua dengan 64 filter ukuran 3x3\n",
    "    model.add(layers.Conv2D(64, (3, 3), activation='relu'))\n",
    "    # Layer pooling kedua\n",
    "    model.add(layers.MaxPooling2D((2, 2)))\n",
    "    \n",
    "    # Layer konvolusi ketiga dengan 64 filter ukuran 3x3\n",
    "    model.add(layers.Conv2D(64, (3, 3), activation='relu'))\n",
    "\n",
    "    # Flatten hasil dari layer konvolusi sebelumnya\n",
    "    model.add(layers.Flatten())\n",
    "    \n",
    "    # Layer fully connected pertama dengan 64 unit\n",
    "    model.add(layers.Dense(64, activation='relu'))\n",
    "    # Output layer dengan jumlah neuron sesuai dengan jumlah kelas\n",
    "    model.add(layers.Dense(num_classes, activation='softmax'))\n",
    "    \n",
    "    return model\n",
    "\n",
    "# Contoh penggunaan\n",
    "input_shape = (227, 227, 3)  # Misalnya untuk data gambar berukuran 28x28 dengan 1 channel (misalnya grayscale)\n",
    "num_classes = 2  # Misalnya untuk klasifikasi 10 kelas (misalnya MNIST)\n",
    "model = create_simple_cnn(input_shape, num_classes)\n",
    "\n",
    "# Compile model\n",
    "model.compile(optimizer='adam',\n",
    "              loss='sparse_categorical_crossentropy',\n",
    "              metrics=['accuracy'])\n",
    "\n",
    "# Tampilkan ringkasan model\n",
    "model.summary()"
   ]
  },
  {
   "cell_type": "code",
   "execution_count": 23,
   "metadata": {},
   "outputs": [],
   "source": [
    "epochs = 25\n",
    "batch_size = 16"
   ]
  },
  {
   "cell_type": "code",
   "execution_count": 31,
   "metadata": {},
   "outputs": [],
   "source": [
    "model.compile(optimizer='adam',\n",
    "              loss='sparse_categorical_crossentropy',\n",
    "              metrics=['accuracy'])\n"
   ]
  },
  {
   "cell_type": "code",
   "execution_count": 32,
   "metadata": {},
   "outputs": [
    {
     "name": "stdout",
     "output_type": "stream",
     "text": [
      "Epoch 1/25\n",
      "31/31 [==============================] - 89s 3s/step - loss: 0.3227 - accuracy: 0.9463 - val_loss: 0.0176 - val_accuracy: 0.9918\n",
      "Epoch 2/25\n",
      "31/31 [==============================] - 81s 3s/step - loss: 0.0138 - accuracy: 0.9959 - val_loss: 6.3436e-04 - val_accuracy: 1.0000\n",
      "Epoch 3/25\n",
      "31/31 [==============================] - 80s 3s/step - loss: 2.2645e-04 - accuracy: 1.0000 - val_loss: 3.6608e-04 - val_accuracy: 1.0000\n",
      "Epoch 4/25\n",
      "31/31 [==============================] - 81s 3s/step - loss: 1.2677e-04 - accuracy: 1.0000 - val_loss: 7.2326e-04 - val_accuracy: 1.0000\n",
      "Epoch 5/25\n",
      "31/31 [==============================] - 80s 3s/step - loss: 7.6743e-05 - accuracy: 1.0000 - val_loss: 0.0012 - val_accuracy: 1.0000\n",
      "Epoch 6/25\n",
      "31/31 [==============================] - 80s 3s/step - loss: 5.5699e-05 - accuracy: 1.0000 - val_loss: 0.0015 - val_accuracy: 1.0000\n",
      "Epoch 7/25\n",
      "31/31 [==============================] - 82s 3s/step - loss: 4.2778e-05 - accuracy: 1.0000 - val_loss: 0.0018 - val_accuracy: 1.0000\n",
      "Epoch 8/25\n",
      "31/31 [==============================] - 81s 3s/step - loss: 3.4206e-05 - accuracy: 1.0000 - val_loss: 0.0021 - val_accuracy: 1.0000\n",
      "Epoch 9/25\n",
      "31/31 [==============================] - 80s 3s/step - loss: 2.7856e-05 - accuracy: 1.0000 - val_loss: 0.0024 - val_accuracy: 1.0000\n",
      "Epoch 10/25\n",
      "31/31 [==============================] - 82s 3s/step - loss: 2.3095e-05 - accuracy: 1.0000 - val_loss: 0.0026 - val_accuracy: 1.0000\n",
      "Epoch 11/25\n",
      "31/31 [==============================] - 80s 3s/step - loss: 1.9545e-05 - accuracy: 1.0000 - val_loss: 0.0028 - val_accuracy: 1.0000\n",
      "Epoch 12/25\n",
      "31/31 [==============================] - 81s 3s/step - loss: 1.6671e-05 - accuracy: 1.0000 - val_loss: 0.0029 - val_accuracy: 1.0000\n",
      "Epoch 13/25\n",
      "31/31 [==============================] - 80s 3s/step - loss: 1.4409e-05 - accuracy: 1.0000 - val_loss: 0.0030 - val_accuracy: 1.0000\n",
      "Epoch 14/25\n",
      "31/31 [==============================] - 82s 3s/step - loss: 1.2633e-05 - accuracy: 1.0000 - val_loss: 0.0033 - val_accuracy: 1.0000\n",
      "Epoch 15/25\n",
      "31/31 [==============================] - 82s 3s/step - loss: 1.1060e-05 - accuracy: 1.0000 - val_loss: 0.0033 - val_accuracy: 1.0000\n",
      "Epoch 16/25\n",
      "31/31 [==============================] - 81s 3s/step - loss: 9.7311e-06 - accuracy: 1.0000 - val_loss: 0.0037 - val_accuracy: 1.0000\n",
      "Epoch 17/25\n",
      "31/31 [==============================] - 82s 3s/step - loss: 8.2758e-06 - accuracy: 1.0000 - val_loss: 0.0045 - val_accuracy: 1.0000\n",
      "Epoch 18/25\n",
      "31/31 [==============================] - 81s 3s/step - loss: 6.4027e-06 - accuracy: 1.0000 - val_loss: 0.0073 - val_accuracy: 0.9918\n",
      "Epoch 19/25\n",
      "31/31 [==============================] - 94s 3s/step - loss: 4.4248e-06 - accuracy: 1.0000 - val_loss: 0.0128 - val_accuracy: 0.9918\n",
      "Epoch 20/25\n",
      "31/31 [==============================] - 82s 3s/step - loss: 3.1421e-06 - accuracy: 1.0000 - val_loss: 0.0204 - val_accuracy: 0.9918\n",
      "Epoch 21/25\n",
      "31/31 [==============================] - 82s 3s/step - loss: 2.1536e-06 - accuracy: 1.0000 - val_loss: 0.0186 - val_accuracy: 0.9918\n",
      "Epoch 22/25\n",
      "31/31 [==============================] - 84s 3s/step - loss: 1.6383e-06 - accuracy: 1.0000 - val_loss: 0.0199 - val_accuracy: 0.9918\n",
      "Epoch 23/25\n",
      "31/31 [==============================] - 82s 3s/step - loss: 1.2842e-06 - accuracy: 1.0000 - val_loss: 0.0221 - val_accuracy: 0.9918\n",
      "Epoch 24/25\n",
      "31/31 [==============================] - 82s 3s/step - loss: 1.0411e-06 - accuracy: 1.0000 - val_loss: 0.0233 - val_accuracy: 0.9918\n",
      "Epoch 25/25\n",
      "31/31 [==============================] - 81s 3s/step - loss: 8.7484e-07 - accuracy: 1.0000 - val_loss: 0.0248 - val_accuracy: 0.9918\n"
     ]
    }
   ],
   "source": [
    "history = model.fit(x_train, y_train, \n",
    "                    epochs=epochs, \n",
    "                    batch_size=batch_size, \n",
    "                    validation_data=(x_test, y_test))\n"
   ]
  },
  {
   "cell_type": "code",
   "execution_count": 34,
   "metadata": {},
   "outputs": [
    {
     "data": {
      "image/png": "[encoded data removed]",
      "text/plain": [
       "<Figure size 720x576 with 1 Axes>"
      ]
     },
     "metadata": {
      "needs_background": "light"
     },
     "output_type": "display_data"
    }
   ],
   "source": [
    "import matplotlib.pyplot as plt\n",
    "from sklearn.metrics import confusion_matrix\n",
    "import seaborn as sns\n",
    "\n",
    "# Prediksi label kelas untuk data uji\n",
    "predicted_labels = np.argmax(model.predict(x_test), axis=-1)\n",
    "\n",
    "# Membuat confusion matrix\n",
    "cm = confusion_matrix(y_test, predicted_labels)\n",
    "\n",
    "# Visualisasi confusion matrix\n",
    "plt.figure(figsize=(10, 8))\n",
    "sns.heatmap(cm, annot=True, fmt='d', cmap='Blues', cbar=False)\n",
    "plt.xlabel('Predicted Label')\n",
    "plt.ylabel('True Label')\n",
    "plt.title('Confusion Matrix')\n",
    "plt.show()"
   ]
  },
  {
   "cell_type": "code",
   "execution_count": null,
   "metadata": {},
   "outputs": [],
   "source": []
  }
 ],
 "metadata": {
  "kernelspec": {
   "display_name": "Python 3",
   "language": "python",
   "name": "python3"
  },
  "language_info": {
   "codemirror_mode": {
    "name": "ipython",
    "version": 3
   },
   "file_extension": ".py",
   "mimetype": "text/x-python",
   "name": "python",
   "nbconvert_exporter": "python",
   "pygments_lexer": "ipython3",
   "version": "3.8.3"
  }
 },
 "nbformat": 4,
 "nbformat_minor": 4
}
