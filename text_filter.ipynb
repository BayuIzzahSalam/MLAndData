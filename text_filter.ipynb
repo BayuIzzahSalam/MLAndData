{
 "cells": [
  {
   "cell_type": "code",
   "execution_count": 4,
   "metadata": {},
   "outputs": [],
   "source": [
    "def load_word(file_path):\n",
    "    with open (file_path, 'r') as file:\n",
    "        return set (word.strip() for word in file.readlines())"
   ]
  },
  {
   "cell_type": "code",
   "execution_count": 5,
   "metadata": {},
   "outputs": [],
   "source": [
    "def filter_text(input_text, word_to_filter):\n",
    "    filter_word=[]\n",
    "    for word in input_text.split():\n",
    "        if word.lower() in word_to_filter:\n",
    "            filter_word.append(word)\n",
    "    return filter_word"
   ]
  },
  {
   "cell_type": "code",
   "execution_count": 6,
   "metadata": {},
   "outputs": [
    {
     "name": "stdout",
     "output_type": "stream",
     "text": [
      "enter text : tes\n",
      "word not found\n"
     ]
    }
   ],
   "source": [
    "def main():\n",
    "    file_path = \"full-list-of-bad-words_text-file_2022_05_05.txt\"\n",
    "    word_to_filter= load_word(file_path)\n",
    "    \n",
    "    user_input = input(\"enter text : \")\n",
    "    filter_word = filter_text(user_input, word_to_filter)\n",
    "    \n",
    "    if filter_word:\n",
    "        print(\"word found : \")\n",
    "        print(filter_word)\n",
    "    else:\n",
    "        print(\"word not found\")\n",
    "        \n",
    "if __name__ == \"__main__\":\n",
    "    main()"
   ]
  },
  {
   "cell_type": "code",
   "execution_count": null,
   "metadata": {},
   "outputs": [],
   "source": []
  }
 ],
 "metadata": {
  "kernelspec": {
   "display_name": "Python 3",
   "language": "python",
   "name": "python3"
  },
  "language_info": {
   "codemirror_mode": {
    "name": "ipython",
    "version": 3
   },
   "file_extension": ".py",
   "mimetype": "text/x-python",
   "name": "python",
   "nbconvert_exporter": "python",
   "pygments_lexer": "ipython3",
   "version": "3.8.3"
  }
 },
 "nbformat": 4,
 "nbformat_minor": 4
}
